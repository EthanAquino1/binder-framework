{
  "nbformat": 4,
  "nbformat_minor": 0,
  "metadata": {
    "colab": {
      "provenance": [],
      "authorship_tag": "ABX9TyOtylhb7bQLzGcxn2zqKQsv"
    },
    "kernelspec": {
      "name": "python3",
      "display_name": "Python 3"
    },
    "language_info": {
      "name": "python"
    }
  },
  "cells": [
    {
      "cell_type": "code",
      "execution_count": 2,
      "metadata": {
        "id": "5pfdAw-vMTQL"
      },
      "outputs": [],
      "source": [
        "import pandas as pd\n",
        "import numpy as np\n",
        "import matplotlib.pyplot as plt\n",
        "import seaborn as sns"
      ]
    },
    {
      "cell_type": "code",
      "source": [
        "df = pd.read_csv(\"/content/energy.csv\")"
      ],
      "metadata": {
        "id": "2RM_9xPHMecA"
      },
      "execution_count": 3,
      "outputs": []
    },
    {
      "cell_type": "code",
      "source": [
        "df"
      ],
      "metadata": {
        "colab": {
          "base_uri": "https://localhost:8080/",
          "height": 1000
        },
        "id": "QhrV5awwMqp0",
        "outputId": "65a61f6d-562a-49db-879d-969257846a82"
      },
      "execution_count": 4,
      "outputs": [
        {
          "output_type": "execute_result",
          "data": {
            "text/plain": [
              "                                 Company Name    company contact  \\\n",
              "0                              1 State Street      David Neiburg   \n",
              "1                              100 Church LLC  Edward A. Carroll   \n",
              "2                        100 Wall Investments       Jerry Branam   \n",
              "3                 1-10 Bush Terminal Owner LP     Andrew Kimball   \n",
              "4    120 Broadway Acquisitions JV, LLC (Ldmk)        Carl Letich   \n",
              "..                                        ...                ...   \n",
              "445                         WONTON FOOD, INC.         DONALD LAU   \n",
              "446                                Wood Works       Gordon Brawm   \n",
              "447           WorldWide Plumbing Supply, Inc.    Surie Lefkowitz   \n",
              "448                         WUD Furniture LLC     Keren Springer   \n",
              "449                       Wurtec Incorporated          Bill Popp   \n",
              "\n",
              "                 company email company phone                Address  \\\n",
              "0       eskoblo@energyspec.com    7186779077          1114 Avenue J   \n",
              "1                          NaN    2125663000      100 Church Street   \n",
              "2                          NaN    2122487160         96 Wall Street   \n",
              "3    akimball@industrycity.com    3474178429  220 36th St, Suite 2A   \n",
              "4        clettich@silvprop.com    2124064020           120 Broadway   \n",
              "..                         ...           ...                    ...   \n",
              "445   donaldlau@wontonfood.com    7186286868  220-222  MOORE STREET   \n",
              "446       brawnworks@gmail.com    9179404950        162 Cook Street   \n",
              "447           sheidya@wwps.com    7188533002        125 Lake Avenue   \n",
              "448     keren@wudfurniture.com    7184867952   1102 Atlantic Avenue   \n",
              "449       bill.popp@wurtec.com    4197261066      31-50 31st Street   \n",
              "\n",
              "                 City State  Postcode                          Industry  \\\n",
              "0            Brooklyn    NY     11230                        Commercial   \n",
              "1                  NY    NY     10007                        Commercial   \n",
              "2            New York    NY     10005                          Landlord   \n",
              "3            Brooklyn    NY     11232                          Landlord   \n",
              "4            New York    NY     10271                        Commercial   \n",
              "..                ...   ...       ...                               ...   \n",
              "445          Brooklyn    NY     11206                     Manufacturing   \n",
              "446          Brooklyn    NY     11206                     Manufacturing   \n",
              "447     Staten Island    NY     10303                     Manufacturing   \n",
              "448          Brooklyn    NY     11238                     Manufacturing   \n",
              "449  Lond Island City    NY     11106  Wholesale/Warehouse/Distribution   \n",
              "\n",
              "                                        Industry descr  ...  \\\n",
              "0                                    35 story building  ...   \n",
              "1                                            21 Floors  ...   \n",
              "2                                                  NaN  ...   \n",
              "3    Special Eligible Premises for eligible businesses  ...   \n",
              "4                                                  NaN  ...   \n",
              "..                                                 ...  ...   \n",
              "445                          MFG. PASTA, EGGROLL SKINS  ...   \n",
              "446                        Installer of wood furniture  ...   \n",
              "447      Plumbing Fixtures, Parts & Supplies, Plumbers  ...   \n",
              "448  We make handcrafted furniture, surfaces, lighting  ...   \n",
              "449                         Elevator  tooling products  ...   \n",
              "\n",
              "    Savings from beginning receiving benefits        Borough   Latitude  \\\n",
              "0                                      349.78       Brooklyn  40.624784   \n",
              "1                                  4423698.05       New York  40.712968   \n",
              "2                                  1814542.62       New York  40.705052   \n",
              "3                                     6755.31       Brooklyn  40.656061   \n",
              "4                                  3293055.08       New York  40.708546   \n",
              "..                                        ...            ...        ...   \n",
              "445                                 965843.58       Brooklyn  40.704425   \n",
              "446                                   3585.40       Brooklyn  40.702869   \n",
              "447                                  20487.73  Staten Island  40.633518   \n",
              "448                                  12287.32       Brooklyn  40.679518   \n",
              "449                                      0.00         Queens  40.763148   \n",
              "\n",
              "     Longitude Community Board  Council District  Census Tract        BIN  \\\n",
              "0   -73.964920           314.0              44.0         534.0  3179818.0   \n",
              "1   -74.009490           101.0               1.0          21.0  1001409.0   \n",
              "2   -74.007199           101.0               1.0           7.0  1000875.0   \n",
              "3   -74.007334           307.0              38.0           2.0  3398687.0   \n",
              "4   -74.011041           101.0               1.0           7.0  1001026.0   \n",
              "..         ...             ...               ...           ...        ...   \n",
              "445 -73.936010           301.0              34.0         485.0  3071539.0   \n",
              "446 -73.936466           301.0              34.0         485.0  3071625.0   \n",
              "447 -74.150942           501.0              49.0         239.0  5107122.0   \n",
              "448 -73.956819           308.0              35.0         305.0  3027572.0   \n",
              "449 -73.924442           401.0              22.0          61.0  4007562.0   \n",
              "\n",
              "              BBL                                                NTA  \n",
              "0    3.067130e+09                                            Midwood  \n",
              "1    1.001250e+09             SoHo-TriBeCa-Civic Center-Little Italy  \n",
              "2    1.000380e+09                  Battery Park City-Lower Manhattan  \n",
              "3    3.006950e+09                                   Sunset Park West  \n",
              "4    1.000478e+09                  Battery Park City-Lower Manhattan  \n",
              "..            ...                                                ...  \n",
              "445  3.031090e+09                                     Bushwick South  \n",
              "446  3.031230e+09                                     Bushwick South  \n",
              "447  5.011610e+09  Mariner's Harbor-Arlington-Port Ivory-Granitev...  \n",
              "448  3.011260e+09                                Crown Heights North  \n",
              "449  4.005890e+09                                            Astoria  \n",
              "\n",
              "[450 rows x 26 columns]"
            ],
            "text/html": [
              "\n",
              "  <div id=\"df-15d5293c-b976-4f4c-ba03-dbe113664ef8\">\n",
              "    <div class=\"colab-df-container\">\n",
              "      <div>\n",
              "<style scoped>\n",
              "    .dataframe tbody tr th:only-of-type {\n",
              "        vertical-align: middle;\n",
              "    }\n",
              "\n",
              "    .dataframe tbody tr th {\n",
              "        vertical-align: top;\n",
              "    }\n",
              "\n",
              "    .dataframe thead th {\n",
              "        text-align: right;\n",
              "    }\n",
              "</style>\n",
              "<table border=\"1\" class=\"dataframe\">\n",
              "  <thead>\n",
              "    <tr style=\"text-align: right;\">\n",
              "      <th></th>\n",
              "      <th>Company Name</th>\n",
              "      <th>company contact</th>\n",
              "      <th>company email</th>\n",
              "      <th>company phone</th>\n",
              "      <th>Address</th>\n",
              "      <th>City</th>\n",
              "      <th>State</th>\n",
              "      <th>Postcode</th>\n",
              "      <th>Industry</th>\n",
              "      <th>Industry descr</th>\n",
              "      <th>...</th>\n",
              "      <th>Savings from beginning receiving benefits</th>\n",
              "      <th>Borough</th>\n",
              "      <th>Latitude</th>\n",
              "      <th>Longitude</th>\n",
              "      <th>Community Board</th>\n",
              "      <th>Council District</th>\n",
              "      <th>Census Tract</th>\n",
              "      <th>BIN</th>\n",
              "      <th>BBL</th>\n",
              "      <th>NTA</th>\n",
              "    </tr>\n",
              "  </thead>\n",
              "  <tbody>\n",
              "    <tr>\n",
              "      <th>0</th>\n",
              "      <td>1 State Street</td>\n",
              "      <td>David Neiburg</td>\n",
              "      <td>eskoblo@energyspec.com</td>\n",
              "      <td>7186779077</td>\n",
              "      <td>1114 Avenue J</td>\n",
              "      <td>Brooklyn</td>\n",
              "      <td>NY</td>\n",
              "      <td>11230</td>\n",
              "      <td>Commercial</td>\n",
              "      <td>35 story building</td>\n",
              "      <td>...</td>\n",
              "      <td>349.78</td>\n",
              "      <td>Brooklyn</td>\n",
              "      <td>40.624784</td>\n",
              "      <td>-73.964920</td>\n",
              "      <td>314.0</td>\n",
              "      <td>44.0</td>\n",
              "      <td>534.0</td>\n",
              "      <td>3179818.0</td>\n",
              "      <td>3.067130e+09</td>\n",
              "      <td>Midwood</td>\n",
              "    </tr>\n",
              "    <tr>\n",
              "      <th>1</th>\n",
              "      <td>100 Church LLC</td>\n",
              "      <td>Edward A. Carroll</td>\n",
              "      <td>NaN</td>\n",
              "      <td>2125663000</td>\n",
              "      <td>100 Church Street</td>\n",
              "      <td>NY</td>\n",
              "      <td>NY</td>\n",
              "      <td>10007</td>\n",
              "      <td>Commercial</td>\n",
              "      <td>21 Floors</td>\n",
              "      <td>...</td>\n",
              "      <td>4423698.05</td>\n",
              "      <td>New York</td>\n",
              "      <td>40.712968</td>\n",
              "      <td>-74.009490</td>\n",
              "      <td>101.0</td>\n",
              "      <td>1.0</td>\n",
              "      <td>21.0</td>\n",
              "      <td>1001409.0</td>\n",
              "      <td>1.001250e+09</td>\n",
              "      <td>SoHo-TriBeCa-Civic Center-Little Italy</td>\n",
              "    </tr>\n",
              "    <tr>\n",
              "      <th>2</th>\n",
              "      <td>100 Wall Investments</td>\n",
              "      <td>Jerry Branam</td>\n",
              "      <td>NaN</td>\n",
              "      <td>2122487160</td>\n",
              "      <td>96 Wall Street</td>\n",
              "      <td>New York</td>\n",
              "      <td>NY</td>\n",
              "      <td>10005</td>\n",
              "      <td>Landlord</td>\n",
              "      <td>NaN</td>\n",
              "      <td>...</td>\n",
              "      <td>1814542.62</td>\n",
              "      <td>New York</td>\n",
              "      <td>40.705052</td>\n",
              "      <td>-74.007199</td>\n",
              "      <td>101.0</td>\n",
              "      <td>1.0</td>\n",
              "      <td>7.0</td>\n",
              "      <td>1000875.0</td>\n",
              "      <td>1.000380e+09</td>\n",
              "      <td>Battery Park City-Lower Manhattan</td>\n",
              "    </tr>\n",
              "    <tr>\n",
              "      <th>3</th>\n",
              "      <td>1-10 Bush Terminal Owner LP</td>\n",
              "      <td>Andrew Kimball</td>\n",
              "      <td>akimball@industrycity.com</td>\n",
              "      <td>3474178429</td>\n",
              "      <td>220 36th St, Suite 2A</td>\n",
              "      <td>Brooklyn</td>\n",
              "      <td>NY</td>\n",
              "      <td>11232</td>\n",
              "      <td>Landlord</td>\n",
              "      <td>Special Eligible Premises for eligible businesses</td>\n",
              "      <td>...</td>\n",
              "      <td>6755.31</td>\n",
              "      <td>Brooklyn</td>\n",
              "      <td>40.656061</td>\n",
              "      <td>-74.007334</td>\n",
              "      <td>307.0</td>\n",
              "      <td>38.0</td>\n",
              "      <td>2.0</td>\n",
              "      <td>3398687.0</td>\n",
              "      <td>3.006950e+09</td>\n",
              "      <td>Sunset Park West</td>\n",
              "    </tr>\n",
              "    <tr>\n",
              "      <th>4</th>\n",
              "      <td>120 Broadway Acquisitions JV, LLC (Ldmk)</td>\n",
              "      <td>Carl Letich</td>\n",
              "      <td>clettich@silvprop.com</td>\n",
              "      <td>2124064020</td>\n",
              "      <td>120 Broadway</td>\n",
              "      <td>New York</td>\n",
              "      <td>NY</td>\n",
              "      <td>10271</td>\n",
              "      <td>Commercial</td>\n",
              "      <td>NaN</td>\n",
              "      <td>...</td>\n",
              "      <td>3293055.08</td>\n",
              "      <td>New York</td>\n",
              "      <td>40.708546</td>\n",
              "      <td>-74.011041</td>\n",
              "      <td>101.0</td>\n",
              "      <td>1.0</td>\n",
              "      <td>7.0</td>\n",
              "      <td>1001026.0</td>\n",
              "      <td>1.000478e+09</td>\n",
              "      <td>Battery Park City-Lower Manhattan</td>\n",
              "    </tr>\n",
              "    <tr>\n",
              "      <th>...</th>\n",
              "      <td>...</td>\n",
              "      <td>...</td>\n",
              "      <td>...</td>\n",
              "      <td>...</td>\n",
              "      <td>...</td>\n",
              "      <td>...</td>\n",
              "      <td>...</td>\n",
              "      <td>...</td>\n",
              "      <td>...</td>\n",
              "      <td>...</td>\n",
              "      <td>...</td>\n",
              "      <td>...</td>\n",
              "      <td>...</td>\n",
              "      <td>...</td>\n",
              "      <td>...</td>\n",
              "      <td>...</td>\n",
              "      <td>...</td>\n",
              "      <td>...</td>\n",
              "      <td>...</td>\n",
              "      <td>...</td>\n",
              "      <td>...</td>\n",
              "    </tr>\n",
              "    <tr>\n",
              "      <th>445</th>\n",
              "      <td>WONTON FOOD, INC.</td>\n",
              "      <td>DONALD LAU</td>\n",
              "      <td>donaldlau@wontonfood.com</td>\n",
              "      <td>7186286868</td>\n",
              "      <td>220-222  MOORE STREET</td>\n",
              "      <td>Brooklyn</td>\n",
              "      <td>NY</td>\n",
              "      <td>11206</td>\n",
              "      <td>Manufacturing</td>\n",
              "      <td>MFG. PASTA, EGGROLL SKINS</td>\n",
              "      <td>...</td>\n",
              "      <td>965843.58</td>\n",
              "      <td>Brooklyn</td>\n",
              "      <td>40.704425</td>\n",
              "      <td>-73.936010</td>\n",
              "      <td>301.0</td>\n",
              "      <td>34.0</td>\n",
              "      <td>485.0</td>\n",
              "      <td>3071539.0</td>\n",
              "      <td>3.031090e+09</td>\n",
              "      <td>Bushwick South</td>\n",
              "    </tr>\n",
              "    <tr>\n",
              "      <th>446</th>\n",
              "      <td>Wood Works</td>\n",
              "      <td>Gordon Brawm</td>\n",
              "      <td>brawnworks@gmail.com</td>\n",
              "      <td>9179404950</td>\n",
              "      <td>162 Cook Street</td>\n",
              "      <td>Brooklyn</td>\n",
              "      <td>NY</td>\n",
              "      <td>11206</td>\n",
              "      <td>Manufacturing</td>\n",
              "      <td>Installer of wood furniture</td>\n",
              "      <td>...</td>\n",
              "      <td>3585.40</td>\n",
              "      <td>Brooklyn</td>\n",
              "      <td>40.702869</td>\n",
              "      <td>-73.936466</td>\n",
              "      <td>301.0</td>\n",
              "      <td>34.0</td>\n",
              "      <td>485.0</td>\n",
              "      <td>3071625.0</td>\n",
              "      <td>3.031230e+09</td>\n",
              "      <td>Bushwick South</td>\n",
              "    </tr>\n",
              "    <tr>\n",
              "      <th>447</th>\n",
              "      <td>WorldWide Plumbing Supply, Inc.</td>\n",
              "      <td>Surie Lefkowitz</td>\n",
              "      <td>sheidya@wwps.com</td>\n",
              "      <td>7188533002</td>\n",
              "      <td>125 Lake Avenue</td>\n",
              "      <td>Staten Island</td>\n",
              "      <td>NY</td>\n",
              "      <td>10303</td>\n",
              "      <td>Manufacturing</td>\n",
              "      <td>Plumbing Fixtures, Parts &amp; Supplies, Plumbers</td>\n",
              "      <td>...</td>\n",
              "      <td>20487.73</td>\n",
              "      <td>Staten Island</td>\n",
              "      <td>40.633518</td>\n",
              "      <td>-74.150942</td>\n",
              "      <td>501.0</td>\n",
              "      <td>49.0</td>\n",
              "      <td>239.0</td>\n",
              "      <td>5107122.0</td>\n",
              "      <td>5.011610e+09</td>\n",
              "      <td>Mariner's Harbor-Arlington-Port Ivory-Granitev...</td>\n",
              "    </tr>\n",
              "    <tr>\n",
              "      <th>448</th>\n",
              "      <td>WUD Furniture LLC</td>\n",
              "      <td>Keren Springer</td>\n",
              "      <td>keren@wudfurniture.com</td>\n",
              "      <td>7184867952</td>\n",
              "      <td>1102 Atlantic Avenue</td>\n",
              "      <td>Brooklyn</td>\n",
              "      <td>NY</td>\n",
              "      <td>11238</td>\n",
              "      <td>Manufacturing</td>\n",
              "      <td>We make handcrafted furniture, surfaces, lighting</td>\n",
              "      <td>...</td>\n",
              "      <td>12287.32</td>\n",
              "      <td>Brooklyn</td>\n",
              "      <td>40.679518</td>\n",
              "      <td>-73.956819</td>\n",
              "      <td>308.0</td>\n",
              "      <td>35.0</td>\n",
              "      <td>305.0</td>\n",
              "      <td>3027572.0</td>\n",
              "      <td>3.011260e+09</td>\n",
              "      <td>Crown Heights North</td>\n",
              "    </tr>\n",
              "    <tr>\n",
              "      <th>449</th>\n",
              "      <td>Wurtec Incorporated</td>\n",
              "      <td>Bill Popp</td>\n",
              "      <td>bill.popp@wurtec.com</td>\n",
              "      <td>4197261066</td>\n",
              "      <td>31-50 31st Street</td>\n",
              "      <td>Lond Island City</td>\n",
              "      <td>NY</td>\n",
              "      <td>11106</td>\n",
              "      <td>Wholesale/Warehouse/Distribution</td>\n",
              "      <td>Elevator  tooling products</td>\n",
              "      <td>...</td>\n",
              "      <td>0.00</td>\n",
              "      <td>Queens</td>\n",
              "      <td>40.763148</td>\n",
              "      <td>-73.924442</td>\n",
              "      <td>401.0</td>\n",
              "      <td>22.0</td>\n",
              "      <td>61.0</td>\n",
              "      <td>4007562.0</td>\n",
              "      <td>4.005890e+09</td>\n",
              "      <td>Astoria</td>\n",
              "    </tr>\n",
              "  </tbody>\n",
              "</table>\n",
              "<p>450 rows × 26 columns</p>\n",
              "</div>\n",
              "      <button class=\"colab-df-convert\" onclick=\"convertToInteractive('df-15d5293c-b976-4f4c-ba03-dbe113664ef8')\"\n",
              "              title=\"Convert this dataframe to an interactive table.\"\n",
              "              style=\"display:none;\">\n",
              "        \n",
              "  <svg xmlns=\"http://www.w3.org/2000/svg\" height=\"24px\"viewBox=\"0 0 24 24\"\n",
              "       width=\"24px\">\n",
              "    <path d=\"M0 0h24v24H0V0z\" fill=\"none\"/>\n",
              "    <path d=\"M18.56 5.44l.94 2.06.94-2.06 2.06-.94-2.06-.94-.94-2.06-.94 2.06-2.06.94zm-11 1L8.5 8.5l.94-2.06 2.06-.94-2.06-.94L8.5 2.5l-.94 2.06-2.06.94zm10 10l.94 2.06.94-2.06 2.06-.94-2.06-.94-.94-2.06-.94 2.06-2.06.94z\"/><path d=\"M17.41 7.96l-1.37-1.37c-.4-.4-.92-.59-1.43-.59-.52 0-1.04.2-1.43.59L10.3 9.45l-7.72 7.72c-.78.78-.78 2.05 0 2.83L4 21.41c.39.39.9.59 1.41.59.51 0 1.02-.2 1.41-.59l7.78-7.78 2.81-2.81c.8-.78.8-2.07 0-2.86zM5.41 20L4 18.59l7.72-7.72 1.47 1.35L5.41 20z\"/>\n",
              "  </svg>\n",
              "      </button>\n",
              "      \n",
              "  <style>\n",
              "    .colab-df-container {\n",
              "      display:flex;\n",
              "      flex-wrap:wrap;\n",
              "      gap: 12px;\n",
              "    }\n",
              "\n",
              "    .colab-df-convert {\n",
              "      background-color: #E8F0FE;\n",
              "      border: none;\n",
              "      border-radius: 50%;\n",
              "      cursor: pointer;\n",
              "      display: none;\n",
              "      fill: #1967D2;\n",
              "      height: 32px;\n",
              "      padding: 0 0 0 0;\n",
              "      width: 32px;\n",
              "    }\n",
              "\n",
              "    .colab-df-convert:hover {\n",
              "      background-color: #E2EBFA;\n",
              "      box-shadow: 0px 1px 2px rgba(60, 64, 67, 0.3), 0px 1px 3px 1px rgba(60, 64, 67, 0.15);\n",
              "      fill: #174EA6;\n",
              "    }\n",
              "\n",
              "    [theme=dark] .colab-df-convert {\n",
              "      background-color: #3B4455;\n",
              "      fill: #D2E3FC;\n",
              "    }\n",
              "\n",
              "    [theme=dark] .colab-df-convert:hover {\n",
              "      background-color: #434B5C;\n",
              "      box-shadow: 0px 1px 3px 1px rgba(0, 0, 0, 0.15);\n",
              "      filter: drop-shadow(0px 1px 2px rgba(0, 0, 0, 0.3));\n",
              "      fill: #FFFFFF;\n",
              "    }\n",
              "  </style>\n",
              "\n",
              "      <script>\n",
              "        const buttonEl =\n",
              "          document.querySelector('#df-15d5293c-b976-4f4c-ba03-dbe113664ef8 button.colab-df-convert');\n",
              "        buttonEl.style.display =\n",
              "          google.colab.kernel.accessAllowed ? 'block' : 'none';\n",
              "\n",
              "        async function convertToInteractive(key) {\n",
              "          const element = document.querySelector('#df-15d5293c-b976-4f4c-ba03-dbe113664ef8');\n",
              "          const dataTable =\n",
              "            await google.colab.kernel.invokeFunction('convertToInteractive',\n",
              "                                                     [key], {});\n",
              "          if (!dataTable) return;\n",
              "\n",
              "          const docLinkHtml = 'Like what you see? Visit the ' +\n",
              "            '<a target=\"_blank\" href=https://colab.research.google.com/notebooks/data_table.ipynb>data table notebook</a>'\n",
              "            + ' to learn more about interactive tables.';\n",
              "          element.innerHTML = '';\n",
              "          dataTable['output_type'] = 'display_data';\n",
              "          await google.colab.output.renderOutput(dataTable, element);\n",
              "          const docLink = document.createElement('div');\n",
              "          docLink.innerHTML = docLinkHtml;\n",
              "          element.appendChild(docLink);\n",
              "        }\n",
              "      </script>\n",
              "    </div>\n",
              "  </div>\n",
              "  "
            ]
          },
          "metadata": {},
          "execution_count": 4
        }
      ]
    },
    {
      "cell_type": "code",
      "source": [
        "df.info()"
      ],
      "metadata": {
        "colab": {
          "base_uri": "https://localhost:8080/"
        },
        "id": "nfaxd0vLM3AJ",
        "outputId": "e3796a1c-fdb9-40b7-a2fd-2fe50e1407d8"
      },
      "execution_count": 5,
      "outputs": [
        {
          "output_type": "stream",
          "name": "stdout",
          "text": [
            "<class 'pandas.core.frame.DataFrame'>\n",
            "RangeIndex: 450 entries, 0 to 449\n",
            "Data columns (total 26 columns):\n",
            " #   Column                                     Non-Null Count  Dtype  \n",
            "---  ------                                     --------------  -----  \n",
            " 0   Company Name                               450 non-null    object \n",
            " 1   company contact                            450 non-null    object \n",
            " 2   company email                              433 non-null    object \n",
            " 3   company phone                              450 non-null    object \n",
            " 4   Address                                    450 non-null    object \n",
            " 5   City                                       450 non-null    object \n",
            " 6   State                                      450 non-null    object \n",
            " 7   Postcode                                   450 non-null    int64  \n",
            " 8   Industry                                   450 non-null    object \n",
            " 9   Industry descr                             434 non-null    object \n",
            " 10  Company Type                               450 non-null    object \n",
            " 11  Current fulltime                           446 non-null    float64\n",
            " 12  Job created                                11 non-null     float64\n",
            " 13  Job retain                                 14 non-null     float64\n",
            " 14  Effective Date                             450 non-null    object \n",
            " 15  Total Savings                              450 non-null    float64\n",
            " 16  Savings from beginning receiving benefits  450 non-null    float64\n",
            " 17  Borough                                    450 non-null    object \n",
            " 18  Latitude                                   409 non-null    float64\n",
            " 19  Longitude                                  409 non-null    float64\n",
            " 20  Community Board                            409 non-null    float64\n",
            " 21  Council District                           409 non-null    float64\n",
            " 22  Census Tract                               409 non-null    float64\n",
            " 23  BIN                                        401 non-null    float64\n",
            " 24  BBL                                        401 non-null    float64\n",
            " 25  NTA                                        409 non-null    object \n",
            "dtypes: float64(12), int64(1), object(13)\n",
            "memory usage: 91.5+ KB\n"
          ]
        }
      ]
    },
    {
      "cell_type": "code",
      "source": [
        "#Problem #1"
      ],
      "metadata": {
        "id": "yQ_IwtfGwgAV"
      },
      "execution_count": null,
      "outputs": []
    },
    {
      "cell_type": "code",
      "source": [
        "len(df[\"Company Name\"].unique().tolist())"
      ],
      "metadata": {
        "colab": {
          "base_uri": "https://localhost:8080/"
        },
        "id": "ngwAuC9qM7OU",
        "outputId": "8b482a0d-4add-44c5-e3b0-648b8dfaaf44"
      },
      "execution_count": 6,
      "outputs": [
        {
          "output_type": "execute_result",
          "data": {
            "text/plain": [
              "439"
            ]
          },
          "metadata": {},
          "execution_count": 6
        }
      ]
    },
    {
      "cell_type": "code",
      "source": [
        "#439 different companies represented"
      ],
      "metadata": {
        "id": "VFZiAws7PQZ8"
      },
      "execution_count": 7,
      "outputs": []
    },
    {
      "cell_type": "code",
      "source": [
        "#Problem #2"
      ],
      "metadata": {
        "id": "7ZUyL4MKwdQK"
      },
      "execution_count": null,
      "outputs": []
    },
    {
      "cell_type": "code",
      "source": [
        "df[\"Borough\"].value_counts()"
      ],
      "metadata": {
        "colab": {
          "base_uri": "https://localhost:8080/"
        },
        "id": "j_JTs8rRNvCO",
        "outputId": "0f18af23-8431-4423-f6fd-6707a2235d7b"
      },
      "execution_count": 8,
      "outputs": [
        {
          "output_type": "execute_result",
          "data": {
            "text/plain": [
              "Brooklyn         185\n",
              "Queens           173\n",
              "Bronx             44\n",
              "New York          39\n",
              "Staten Island      9\n",
              "Name: Borough, dtype: int64"
            ]
          },
          "metadata": {},
          "execution_count": 8
        }
      ]
    },
    {
      "cell_type": "code",
      "source": [
        "df1 = df[df[\"Borough\"]== \"Queens\"]"
      ],
      "metadata": {
        "id": "oC5GoqdXOXO9"
      },
      "execution_count": 9,
      "outputs": []
    },
    {
      "cell_type": "code",
      "source": [
        "df1[\"Job created\"].dropna(axis=0)"
      ],
      "metadata": {
        "colab": {
          "base_uri": "https://localhost:8080/"
        },
        "id": "DqyU9su_OxSP",
        "outputId": "83e171c4-5869-48d2-8f2c-2424e83febd5"
      },
      "execution_count": 10,
      "outputs": [
        {
          "output_type": "execute_result",
          "data": {
            "text/plain": [
              "29     10.0\n",
              "37     60.0\n",
              "137    10.0\n",
              "325     2.0\n",
              "433    20.0\n",
              "Name: Job created, dtype: float64"
            ]
          },
          "metadata": {},
          "execution_count": 10
        }
      ]
    },
    {
      "cell_type": "code",
      "source": [
        "#102 Jobs created in Queens"
      ],
      "metadata": {
        "id": "suEfNWXkPKpc"
      },
      "execution_count": 11,
      "outputs": []
    },
    {
      "cell_type": "code",
      "source": [
        "#Problem #3"
      ],
      "metadata": {
        "id": "w3I2AkQOwbfq"
      },
      "execution_count": null,
      "outputs": []
    },
    {
      "cell_type": "code",
      "source": [
        "df[\"company email\"]"
      ],
      "metadata": {
        "colab": {
          "base_uri": "https://localhost:8080/"
        },
        "id": "Jbmq6PqvPUHj",
        "outputId": "d9c3b567-230e-49e3-d997-9d7489c40be6"
      },
      "execution_count": 12,
      "outputs": [
        {
          "output_type": "execute_result",
          "data": {
            "text/plain": [
              "0         eskoblo@energyspec.com\n",
              "1                            NaN\n",
              "2                            NaN\n",
              "3      akimball@industrycity.com\n",
              "4          clettich@silvprop.com\n",
              "                 ...            \n",
              "445     donaldlau@wontonfood.com\n",
              "446         brawnworks@gmail.com\n",
              "447             sheidya@wwps.com\n",
              "448       keren@wudfurniture.com\n",
              "449         bill.popp@wurtec.com\n",
              "Name: company email, Length: 450, dtype: object"
            ]
          },
          "metadata": {},
          "execution_count": 12
        }
      ]
    },
    {
      "cell_type": "code",
      "source": [
        "df2 = df"
      ],
      "metadata": {
        "id": "s80JXe19P1WW"
      },
      "execution_count": 13,
      "outputs": []
    },
    {
      "cell_type": "code",
      "source": [
        "df2[\"domain\"] = df2[\"company email\"].str.split(\"@\").str[1]"
      ],
      "metadata": {
        "id": "PJ5QXhaaP88r"
      },
      "execution_count": 14,
      "outputs": []
    },
    {
      "cell_type": "code",
      "source": [
        "df2"
      ],
      "metadata": {
        "colab": {
          "base_uri": "https://localhost:8080/",
          "height": 1000
        },
        "id": "9LpqrtFtQZbe",
        "outputId": "654cb281-1a49-44d7-a4f5-c6cf410eeb8d"
      },
      "execution_count": 15,
      "outputs": [
        {
          "output_type": "execute_result",
          "data": {
            "text/plain": [
              "                                 Company Name    company contact  \\\n",
              "0                              1 State Street      David Neiburg   \n",
              "1                              100 Church LLC  Edward A. Carroll   \n",
              "2                        100 Wall Investments       Jerry Branam   \n",
              "3                 1-10 Bush Terminal Owner LP     Andrew Kimball   \n",
              "4    120 Broadway Acquisitions JV, LLC (Ldmk)        Carl Letich   \n",
              "..                                        ...                ...   \n",
              "445                         WONTON FOOD, INC.         DONALD LAU   \n",
              "446                                Wood Works       Gordon Brawm   \n",
              "447           WorldWide Plumbing Supply, Inc.    Surie Lefkowitz   \n",
              "448                         WUD Furniture LLC     Keren Springer   \n",
              "449                       Wurtec Incorporated          Bill Popp   \n",
              "\n",
              "                 company email company phone                Address  \\\n",
              "0       eskoblo@energyspec.com    7186779077          1114 Avenue J   \n",
              "1                          NaN    2125663000      100 Church Street   \n",
              "2                          NaN    2122487160         96 Wall Street   \n",
              "3    akimball@industrycity.com    3474178429  220 36th St, Suite 2A   \n",
              "4        clettich@silvprop.com    2124064020           120 Broadway   \n",
              "..                         ...           ...                    ...   \n",
              "445   donaldlau@wontonfood.com    7186286868  220-222  MOORE STREET   \n",
              "446       brawnworks@gmail.com    9179404950        162 Cook Street   \n",
              "447           sheidya@wwps.com    7188533002        125 Lake Avenue   \n",
              "448     keren@wudfurniture.com    7184867952   1102 Atlantic Avenue   \n",
              "449       bill.popp@wurtec.com    4197261066      31-50 31st Street   \n",
              "\n",
              "                 City State  Postcode                          Industry  \\\n",
              "0            Brooklyn    NY     11230                        Commercial   \n",
              "1                  NY    NY     10007                        Commercial   \n",
              "2            New York    NY     10005                          Landlord   \n",
              "3            Brooklyn    NY     11232                          Landlord   \n",
              "4            New York    NY     10271                        Commercial   \n",
              "..                ...   ...       ...                               ...   \n",
              "445          Brooklyn    NY     11206                     Manufacturing   \n",
              "446          Brooklyn    NY     11206                     Manufacturing   \n",
              "447     Staten Island    NY     10303                     Manufacturing   \n",
              "448          Brooklyn    NY     11238                     Manufacturing   \n",
              "449  Lond Island City    NY     11106  Wholesale/Warehouse/Distribution   \n",
              "\n",
              "                                        Industry descr  ...        Borough  \\\n",
              "0                                    35 story building  ...       Brooklyn   \n",
              "1                                            21 Floors  ...       New York   \n",
              "2                                                  NaN  ...       New York   \n",
              "3    Special Eligible Premises for eligible businesses  ...       Brooklyn   \n",
              "4                                                  NaN  ...       New York   \n",
              "..                                                 ...  ...            ...   \n",
              "445                          MFG. PASTA, EGGROLL SKINS  ...       Brooklyn   \n",
              "446                        Installer of wood furniture  ...       Brooklyn   \n",
              "447      Plumbing Fixtures, Parts & Supplies, Plumbers  ...  Staten Island   \n",
              "448  We make handcrafted furniture, surfaces, lighting  ...       Brooklyn   \n",
              "449                         Elevator  tooling products  ...         Queens   \n",
              "\n",
              "      Latitude  Longitude  Community Board Council District  Census Tract  \\\n",
              "0    40.624784 -73.964920            314.0             44.0         534.0   \n",
              "1    40.712968 -74.009490            101.0              1.0          21.0   \n",
              "2    40.705052 -74.007199            101.0              1.0           7.0   \n",
              "3    40.656061 -74.007334            307.0             38.0           2.0   \n",
              "4    40.708546 -74.011041            101.0              1.0           7.0   \n",
              "..         ...        ...              ...              ...           ...   \n",
              "445  40.704425 -73.936010            301.0             34.0         485.0   \n",
              "446  40.702869 -73.936466            301.0             34.0         485.0   \n",
              "447  40.633518 -74.150942            501.0             49.0         239.0   \n",
              "448  40.679518 -73.956819            308.0             35.0         305.0   \n",
              "449  40.763148 -73.924442            401.0             22.0          61.0   \n",
              "\n",
              "           BIN           BBL  \\\n",
              "0    3179818.0  3.067130e+09   \n",
              "1    1001409.0  1.001250e+09   \n",
              "2    1000875.0  1.000380e+09   \n",
              "3    3398687.0  3.006950e+09   \n",
              "4    1001026.0  1.000478e+09   \n",
              "..         ...           ...   \n",
              "445  3071539.0  3.031090e+09   \n",
              "446  3071625.0  3.031230e+09   \n",
              "447  5107122.0  5.011610e+09   \n",
              "448  3027572.0  3.011260e+09   \n",
              "449  4007562.0  4.005890e+09   \n",
              "\n",
              "                                                   NTA            domain  \n",
              "0                                              Midwood    energyspec.com  \n",
              "1               SoHo-TriBeCa-Civic Center-Little Italy               NaN  \n",
              "2                    Battery Park City-Lower Manhattan               NaN  \n",
              "3                                     Sunset Park West  industrycity.com  \n",
              "4                    Battery Park City-Lower Manhattan      silvprop.com  \n",
              "..                                                 ...               ...  \n",
              "445                                     Bushwick South    wontonfood.com  \n",
              "446                                     Bushwick South         gmail.com  \n",
              "447  Mariner's Harbor-Arlington-Port Ivory-Granitev...          wwps.com  \n",
              "448                                Crown Heights North  wudfurniture.com  \n",
              "449                                            Astoria        wurtec.com  \n",
              "\n",
              "[450 rows x 27 columns]"
            ],
            "text/html": [
              "\n",
              "  <div id=\"df-850b010e-9006-491b-b8cc-efeb689f7917\">\n",
              "    <div class=\"colab-df-container\">\n",
              "      <div>\n",
              "<style scoped>\n",
              "    .dataframe tbody tr th:only-of-type {\n",
              "        vertical-align: middle;\n",
              "    }\n",
              "\n",
              "    .dataframe tbody tr th {\n",
              "        vertical-align: top;\n",
              "    }\n",
              "\n",
              "    .dataframe thead th {\n",
              "        text-align: right;\n",
              "    }\n",
              "</style>\n",
              "<table border=\"1\" class=\"dataframe\">\n",
              "  <thead>\n",
              "    <tr style=\"text-align: right;\">\n",
              "      <th></th>\n",
              "      <th>Company Name</th>\n",
              "      <th>company contact</th>\n",
              "      <th>company email</th>\n",
              "      <th>company phone</th>\n",
              "      <th>Address</th>\n",
              "      <th>City</th>\n",
              "      <th>State</th>\n",
              "      <th>Postcode</th>\n",
              "      <th>Industry</th>\n",
              "      <th>Industry descr</th>\n",
              "      <th>...</th>\n",
              "      <th>Borough</th>\n",
              "      <th>Latitude</th>\n",
              "      <th>Longitude</th>\n",
              "      <th>Community Board</th>\n",
              "      <th>Council District</th>\n",
              "      <th>Census Tract</th>\n",
              "      <th>BIN</th>\n",
              "      <th>BBL</th>\n",
              "      <th>NTA</th>\n",
              "      <th>domain</th>\n",
              "    </tr>\n",
              "  </thead>\n",
              "  <tbody>\n",
              "    <tr>\n",
              "      <th>0</th>\n",
              "      <td>1 State Street</td>\n",
              "      <td>David Neiburg</td>\n",
              "      <td>eskoblo@energyspec.com</td>\n",
              "      <td>7186779077</td>\n",
              "      <td>1114 Avenue J</td>\n",
              "      <td>Brooklyn</td>\n",
              "      <td>NY</td>\n",
              "      <td>11230</td>\n",
              "      <td>Commercial</td>\n",
              "      <td>35 story building</td>\n",
              "      <td>...</td>\n",
              "      <td>Brooklyn</td>\n",
              "      <td>40.624784</td>\n",
              "      <td>-73.964920</td>\n",
              "      <td>314.0</td>\n",
              "      <td>44.0</td>\n",
              "      <td>534.0</td>\n",
              "      <td>3179818.0</td>\n",
              "      <td>3.067130e+09</td>\n",
              "      <td>Midwood</td>\n",
              "      <td>energyspec.com</td>\n",
              "    </tr>\n",
              "    <tr>\n",
              "      <th>1</th>\n",
              "      <td>100 Church LLC</td>\n",
              "      <td>Edward A. Carroll</td>\n",
              "      <td>NaN</td>\n",
              "      <td>2125663000</td>\n",
              "      <td>100 Church Street</td>\n",
              "      <td>NY</td>\n",
              "      <td>NY</td>\n",
              "      <td>10007</td>\n",
              "      <td>Commercial</td>\n",
              "      <td>21 Floors</td>\n",
              "      <td>...</td>\n",
              "      <td>New York</td>\n",
              "      <td>40.712968</td>\n",
              "      <td>-74.009490</td>\n",
              "      <td>101.0</td>\n",
              "      <td>1.0</td>\n",
              "      <td>21.0</td>\n",
              "      <td>1001409.0</td>\n",
              "      <td>1.001250e+09</td>\n",
              "      <td>SoHo-TriBeCa-Civic Center-Little Italy</td>\n",
              "      <td>NaN</td>\n",
              "    </tr>\n",
              "    <tr>\n",
              "      <th>2</th>\n",
              "      <td>100 Wall Investments</td>\n",
              "      <td>Jerry Branam</td>\n",
              "      <td>NaN</td>\n",
              "      <td>2122487160</td>\n",
              "      <td>96 Wall Street</td>\n",
              "      <td>New York</td>\n",
              "      <td>NY</td>\n",
              "      <td>10005</td>\n",
              "      <td>Landlord</td>\n",
              "      <td>NaN</td>\n",
              "      <td>...</td>\n",
              "      <td>New York</td>\n",
              "      <td>40.705052</td>\n",
              "      <td>-74.007199</td>\n",
              "      <td>101.0</td>\n",
              "      <td>1.0</td>\n",
              "      <td>7.0</td>\n",
              "      <td>1000875.0</td>\n",
              "      <td>1.000380e+09</td>\n",
              "      <td>Battery Park City-Lower Manhattan</td>\n",
              "      <td>NaN</td>\n",
              "    </tr>\n",
              "    <tr>\n",
              "      <th>3</th>\n",
              "      <td>1-10 Bush Terminal Owner LP</td>\n",
              "      <td>Andrew Kimball</td>\n",
              "      <td>akimball@industrycity.com</td>\n",
              "      <td>3474178429</td>\n",
              "      <td>220 36th St, Suite 2A</td>\n",
              "      <td>Brooklyn</td>\n",
              "      <td>NY</td>\n",
              "      <td>11232</td>\n",
              "      <td>Landlord</td>\n",
              "      <td>Special Eligible Premises for eligible businesses</td>\n",
              "      <td>...</td>\n",
              "      <td>Brooklyn</td>\n",
              "      <td>40.656061</td>\n",
              "      <td>-74.007334</td>\n",
              "      <td>307.0</td>\n",
              "      <td>38.0</td>\n",
              "      <td>2.0</td>\n",
              "      <td>3398687.0</td>\n",
              "      <td>3.006950e+09</td>\n",
              "      <td>Sunset Park West</td>\n",
              "      <td>industrycity.com</td>\n",
              "    </tr>\n",
              "    <tr>\n",
              "      <th>4</th>\n",
              "      <td>120 Broadway Acquisitions JV, LLC (Ldmk)</td>\n",
              "      <td>Carl Letich</td>\n",
              "      <td>clettich@silvprop.com</td>\n",
              "      <td>2124064020</td>\n",
              "      <td>120 Broadway</td>\n",
              "      <td>New York</td>\n",
              "      <td>NY</td>\n",
              "      <td>10271</td>\n",
              "      <td>Commercial</td>\n",
              "      <td>NaN</td>\n",
              "      <td>...</td>\n",
              "      <td>New York</td>\n",
              "      <td>40.708546</td>\n",
              "      <td>-74.011041</td>\n",
              "      <td>101.0</td>\n",
              "      <td>1.0</td>\n",
              "      <td>7.0</td>\n",
              "      <td>1001026.0</td>\n",
              "      <td>1.000478e+09</td>\n",
              "      <td>Battery Park City-Lower Manhattan</td>\n",
              "      <td>silvprop.com</td>\n",
              "    </tr>\n",
              "    <tr>\n",
              "      <th>...</th>\n",
              "      <td>...</td>\n",
              "      <td>...</td>\n",
              "      <td>...</td>\n",
              "      <td>...</td>\n",
              "      <td>...</td>\n",
              "      <td>...</td>\n",
              "      <td>...</td>\n",
              "      <td>...</td>\n",
              "      <td>...</td>\n",
              "      <td>...</td>\n",
              "      <td>...</td>\n",
              "      <td>...</td>\n",
              "      <td>...</td>\n",
              "      <td>...</td>\n",
              "      <td>...</td>\n",
              "      <td>...</td>\n",
              "      <td>...</td>\n",
              "      <td>...</td>\n",
              "      <td>...</td>\n",
              "      <td>...</td>\n",
              "      <td>...</td>\n",
              "    </tr>\n",
              "    <tr>\n",
              "      <th>445</th>\n",
              "      <td>WONTON FOOD, INC.</td>\n",
              "      <td>DONALD LAU</td>\n",
              "      <td>donaldlau@wontonfood.com</td>\n",
              "      <td>7186286868</td>\n",
              "      <td>220-222  MOORE STREET</td>\n",
              "      <td>Brooklyn</td>\n",
              "      <td>NY</td>\n",
              "      <td>11206</td>\n",
              "      <td>Manufacturing</td>\n",
              "      <td>MFG. PASTA, EGGROLL SKINS</td>\n",
              "      <td>...</td>\n",
              "      <td>Brooklyn</td>\n",
              "      <td>40.704425</td>\n",
              "      <td>-73.936010</td>\n",
              "      <td>301.0</td>\n",
              "      <td>34.0</td>\n",
              "      <td>485.0</td>\n",
              "      <td>3071539.0</td>\n",
              "      <td>3.031090e+09</td>\n",
              "      <td>Bushwick South</td>\n",
              "      <td>wontonfood.com</td>\n",
              "    </tr>\n",
              "    <tr>\n",
              "      <th>446</th>\n",
              "      <td>Wood Works</td>\n",
              "      <td>Gordon Brawm</td>\n",
              "      <td>brawnworks@gmail.com</td>\n",
              "      <td>9179404950</td>\n",
              "      <td>162 Cook Street</td>\n",
              "      <td>Brooklyn</td>\n",
              "      <td>NY</td>\n",
              "      <td>11206</td>\n",
              "      <td>Manufacturing</td>\n",
              "      <td>Installer of wood furniture</td>\n",
              "      <td>...</td>\n",
              "      <td>Brooklyn</td>\n",
              "      <td>40.702869</td>\n",
              "      <td>-73.936466</td>\n",
              "      <td>301.0</td>\n",
              "      <td>34.0</td>\n",
              "      <td>485.0</td>\n",
              "      <td>3071625.0</td>\n",
              "      <td>3.031230e+09</td>\n",
              "      <td>Bushwick South</td>\n",
              "      <td>gmail.com</td>\n",
              "    </tr>\n",
              "    <tr>\n",
              "      <th>447</th>\n",
              "      <td>WorldWide Plumbing Supply, Inc.</td>\n",
              "      <td>Surie Lefkowitz</td>\n",
              "      <td>sheidya@wwps.com</td>\n",
              "      <td>7188533002</td>\n",
              "      <td>125 Lake Avenue</td>\n",
              "      <td>Staten Island</td>\n",
              "      <td>NY</td>\n",
              "      <td>10303</td>\n",
              "      <td>Manufacturing</td>\n",
              "      <td>Plumbing Fixtures, Parts &amp; Supplies, Plumbers</td>\n",
              "      <td>...</td>\n",
              "      <td>Staten Island</td>\n",
              "      <td>40.633518</td>\n",
              "      <td>-74.150942</td>\n",
              "      <td>501.0</td>\n",
              "      <td>49.0</td>\n",
              "      <td>239.0</td>\n",
              "      <td>5107122.0</td>\n",
              "      <td>5.011610e+09</td>\n",
              "      <td>Mariner's Harbor-Arlington-Port Ivory-Granitev...</td>\n",
              "      <td>wwps.com</td>\n",
              "    </tr>\n",
              "    <tr>\n",
              "      <th>448</th>\n",
              "      <td>WUD Furniture LLC</td>\n",
              "      <td>Keren Springer</td>\n",
              "      <td>keren@wudfurniture.com</td>\n",
              "      <td>7184867952</td>\n",
              "      <td>1102 Atlantic Avenue</td>\n",
              "      <td>Brooklyn</td>\n",
              "      <td>NY</td>\n",
              "      <td>11238</td>\n",
              "      <td>Manufacturing</td>\n",
              "      <td>We make handcrafted furniture, surfaces, lighting</td>\n",
              "      <td>...</td>\n",
              "      <td>Brooklyn</td>\n",
              "      <td>40.679518</td>\n",
              "      <td>-73.956819</td>\n",
              "      <td>308.0</td>\n",
              "      <td>35.0</td>\n",
              "      <td>305.0</td>\n",
              "      <td>3027572.0</td>\n",
              "      <td>3.011260e+09</td>\n",
              "      <td>Crown Heights North</td>\n",
              "      <td>wudfurniture.com</td>\n",
              "    </tr>\n",
              "    <tr>\n",
              "      <th>449</th>\n",
              "      <td>Wurtec Incorporated</td>\n",
              "      <td>Bill Popp</td>\n",
              "      <td>bill.popp@wurtec.com</td>\n",
              "      <td>4197261066</td>\n",
              "      <td>31-50 31st Street</td>\n",
              "      <td>Lond Island City</td>\n",
              "      <td>NY</td>\n",
              "      <td>11106</td>\n",
              "      <td>Wholesale/Warehouse/Distribution</td>\n",
              "      <td>Elevator  tooling products</td>\n",
              "      <td>...</td>\n",
              "      <td>Queens</td>\n",
              "      <td>40.763148</td>\n",
              "      <td>-73.924442</td>\n",
              "      <td>401.0</td>\n",
              "      <td>22.0</td>\n",
              "      <td>61.0</td>\n",
              "      <td>4007562.0</td>\n",
              "      <td>4.005890e+09</td>\n",
              "      <td>Astoria</td>\n",
              "      <td>wurtec.com</td>\n",
              "    </tr>\n",
              "  </tbody>\n",
              "</table>\n",
              "<p>450 rows × 27 columns</p>\n",
              "</div>\n",
              "      <button class=\"colab-df-convert\" onclick=\"convertToInteractive('df-850b010e-9006-491b-b8cc-efeb689f7917')\"\n",
              "              title=\"Convert this dataframe to an interactive table.\"\n",
              "              style=\"display:none;\">\n",
              "        \n",
              "  <svg xmlns=\"http://www.w3.org/2000/svg\" height=\"24px\"viewBox=\"0 0 24 24\"\n",
              "       width=\"24px\">\n",
              "    <path d=\"M0 0h24v24H0V0z\" fill=\"none\"/>\n",
              "    <path d=\"M18.56 5.44l.94 2.06.94-2.06 2.06-.94-2.06-.94-.94-2.06-.94 2.06-2.06.94zm-11 1L8.5 8.5l.94-2.06 2.06-.94-2.06-.94L8.5 2.5l-.94 2.06-2.06.94zm10 10l.94 2.06.94-2.06 2.06-.94-2.06-.94-.94-2.06-.94 2.06-2.06.94z\"/><path d=\"M17.41 7.96l-1.37-1.37c-.4-.4-.92-.59-1.43-.59-.52 0-1.04.2-1.43.59L10.3 9.45l-7.72 7.72c-.78.78-.78 2.05 0 2.83L4 21.41c.39.39.9.59 1.41.59.51 0 1.02-.2 1.41-.59l7.78-7.78 2.81-2.81c.8-.78.8-2.07 0-2.86zM5.41 20L4 18.59l7.72-7.72 1.47 1.35L5.41 20z\"/>\n",
              "  </svg>\n",
              "      </button>\n",
              "      \n",
              "  <style>\n",
              "    .colab-df-container {\n",
              "      display:flex;\n",
              "      flex-wrap:wrap;\n",
              "      gap: 12px;\n",
              "    }\n",
              "\n",
              "    .colab-df-convert {\n",
              "      background-color: #E8F0FE;\n",
              "      border: none;\n",
              "      border-radius: 50%;\n",
              "      cursor: pointer;\n",
              "      display: none;\n",
              "      fill: #1967D2;\n",
              "      height: 32px;\n",
              "      padding: 0 0 0 0;\n",
              "      width: 32px;\n",
              "    }\n",
              "\n",
              "    .colab-df-convert:hover {\n",
              "      background-color: #E2EBFA;\n",
              "      box-shadow: 0px 1px 2px rgba(60, 64, 67, 0.3), 0px 1px 3px 1px rgba(60, 64, 67, 0.15);\n",
              "      fill: #174EA6;\n",
              "    }\n",
              "\n",
              "    [theme=dark] .colab-df-convert {\n",
              "      background-color: #3B4455;\n",
              "      fill: #D2E3FC;\n",
              "    }\n",
              "\n",
              "    [theme=dark] .colab-df-convert:hover {\n",
              "      background-color: #434B5C;\n",
              "      box-shadow: 0px 1px 3px 1px rgba(0, 0, 0, 0.15);\n",
              "      filter: drop-shadow(0px 1px 2px rgba(0, 0, 0, 0.3));\n",
              "      fill: #FFFFFF;\n",
              "    }\n",
              "  </style>\n",
              "\n",
              "      <script>\n",
              "        const buttonEl =\n",
              "          document.querySelector('#df-850b010e-9006-491b-b8cc-efeb689f7917 button.colab-df-convert');\n",
              "        buttonEl.style.display =\n",
              "          google.colab.kernel.accessAllowed ? 'block' : 'none';\n",
              "\n",
              "        async function convertToInteractive(key) {\n",
              "          const element = document.querySelector('#df-850b010e-9006-491b-b8cc-efeb689f7917');\n",
              "          const dataTable =\n",
              "            await google.colab.kernel.invokeFunction('convertToInteractive',\n",
              "                                                     [key], {});\n",
              "          if (!dataTable) return;\n",
              "\n",
              "          const docLinkHtml = 'Like what you see? Visit the ' +\n",
              "            '<a target=\"_blank\" href=https://colab.research.google.com/notebooks/data_table.ipynb>data table notebook</a>'\n",
              "            + ' to learn more about interactive tables.';\n",
              "          element.innerHTML = '';\n",
              "          dataTable['output_type'] = 'display_data';\n",
              "          await google.colab.output.renderOutput(dataTable, element);\n",
              "          const docLink = document.createElement('div');\n",
              "          docLink.innerHTML = docLinkHtml;\n",
              "          element.appendChild(docLink);\n",
              "        }\n",
              "      </script>\n",
              "    </div>\n",
              "  </div>\n",
              "  "
            ]
          },
          "metadata": {},
          "execution_count": 15
        }
      ]
    },
    {
      "cell_type": "code",
      "source": [
        "len(df2[\"domain\"].unique().tolist())"
      ],
      "metadata": {
        "colab": {
          "base_uri": "https://localhost:8080/"
        },
        "id": "rJcR0BbaQc1h",
        "outputId": "e316acec-261a-477a-8e88-80c9d2d2c986"
      },
      "execution_count": 16,
      "outputs": [
        {
          "output_type": "execute_result",
          "data": {
            "text/plain": [
              "357"
            ]
          },
          "metadata": {},
          "execution_count": 16
        }
      ]
    },
    {
      "cell_type": "code",
      "source": [
        "#356 (because on NaN(could have been removed in earlier process as well) unique email domains)"
      ],
      "metadata": {
        "id": "VSYR1q0tQnyU"
      },
      "execution_count": 17,
      "outputs": []
    },
    {
      "cell_type": "code",
      "source": [
        "#Problem #4"
      ],
      "metadata": {
        "id": "tmZM1WiAwYEy"
      },
      "execution_count": null,
      "outputs": []
    },
    {
      "cell_type": "code",
      "source": [
        "df[\"NTA\"].value_counts()"
      ],
      "metadata": {
        "colab": {
          "base_uri": "https://localhost:8080/"
        },
        "id": "tDXsRSKtQup6",
        "outputId": "a28b6f92-9393-4609-fa00-e62977fb794d"
      },
      "execution_count": 18,
      "outputs": [
        {
          "output_type": "execute_result",
          "data": {
            "text/plain": [
              "Hunters Point-Sunnyside-West Maspeth        75\n",
              "Sunset Park West                            48\n",
              "Queensbridge-Ravenswood-Long Island City    16\n",
              "park-cemetery-etc-Brooklyn                  15\n",
              "Greenpoint                                  14\n",
              "                                            ..\n",
              "Washington Heights South                     1\n",
              "Forest Hills                                 1\n",
              "Morrisania-Melrose                           1\n",
              "Ocean Hill                                   1\n",
              "Co-op City                                   1\n",
              "Name: NTA, Length: 79, dtype: int64"
            ]
          },
          "metadata": {},
          "execution_count": 18
        }
      ]
    },
    {
      "cell_type": "code",
      "source": [
        "df3 = df[df['NTA'].map(df['NTA'].value_counts()) > 5]"
      ],
      "metadata": {
        "id": "rAs8SkxHRTPk"
      },
      "execution_count": 19,
      "outputs": []
    },
    {
      "cell_type": "code",
      "source": [
        "df3[\"NTA\"].value_counts()"
      ],
      "metadata": {
        "colab": {
          "base_uri": "https://localhost:8080/"
        },
        "id": "PMTY4889RbiR",
        "outputId": "5b94b0e3-849a-433f-8b5e-4fe71e40a354"
      },
      "execution_count": 20,
      "outputs": [
        {
          "output_type": "execute_result",
          "data": {
            "text/plain": [
              "Hunters Point-Sunnyside-West Maspeth                75\n",
              "Sunset Park West                                    48\n",
              "Queensbridge-Ravenswood-Long Island City            16\n",
              "park-cemetery-etc-Brooklyn                          15\n",
              "Greenpoint                                          14\n",
              "Mott Haven-Port Morris                              14\n",
              "Hunts Point                                         13\n",
              "East Williamsburg                                   11\n",
              "Carroll Gardens-Columbia Street-Red Hook            11\n",
              "DUMBO-Vinegar Hill-Downtown Brooklyn-Boerum Hill    10\n",
              "Bushwick South                                      10\n",
              "Battery Park City-Lower Manhattan                    9\n",
              "Maspeth                                              9\n",
              "Manhattanville                                       9\n",
              "Crown Heights North                                  9\n",
              "East New York                                        9\n",
              "Steinway                                             7\n",
              "College Point                                        7\n",
              "Name: NTA, dtype: int64"
            ]
          },
          "metadata": {},
          "execution_count": 20
        }
      ]
    },
    {
      "cell_type": "code",
      "source": [
        "#Find average total savings and average jobs created per NTA"
      ],
      "metadata": {
        "id": "I71vEvzRRnYd"
      },
      "execution_count": 21,
      "outputs": []
    },
    {
      "cell_type": "code",
      "source": [
        "#Create function that automatically checks each NTA, create for loop to loop through function\n",
        "#Try it with one NTA first then turn that into a function"
      ],
      "metadata": {
        "id": "diFBCrRjR5X6"
      },
      "execution_count": 22,
      "outputs": []
    },
    {
      "cell_type": "code",
      "source": [
        "df3[\"Total Savings\"]"
      ],
      "metadata": {
        "colab": {
          "base_uri": "https://localhost:8080/"
        },
        "id": "yP_-qCGwoaCa",
        "outputId": "6e483a38-697b-49b3-db93-72fecff60ea5"
      },
      "execution_count": 23,
      "outputs": [
        {
          "output_type": "execute_result",
          "data": {
            "text/plain": [
              "2      302959.40\n",
              "3        2159.67\n",
              "4      922407.32\n",
              "5      368601.17\n",
              "6        1637.29\n",
              "         ...    \n",
              "443      1180.20\n",
              "444     26647.13\n",
              "445     35384.76\n",
              "446      1457.26\n",
              "448      2484.84\n",
              "Name: Total Savings, Length: 296, dtype: float64"
            ]
          },
          "metadata": {},
          "execution_count": 23
        }
      ]
    },
    {
      "cell_type": "code",
      "source": [
        "len(df3[df3[\"NTA\"] == \"Sunset Park West\"])"
      ],
      "metadata": {
        "colab": {
          "base_uri": "https://localhost:8080/"
        },
        "id": "GUxX7i-qn3Ck",
        "outputId": "084fe4c8-ec8c-4f54-d3fb-78c0e5eb7d87"
      },
      "execution_count": 24,
      "outputs": [
        {
          "output_type": "execute_result",
          "data": {
            "text/plain": [
              "48"
            ]
          },
          "metadata": {},
          "execution_count": 24
        }
      ]
    },
    {
      "cell_type": "code",
      "source": [
        "df3[df3[\"NTA\"] == \"Sunset Park West\"][\"Total Savings\"]"
      ],
      "metadata": {
        "colab": {
          "base_uri": "https://localhost:8080/"
        },
        "id": "SLXMm_8Hoi6u",
        "outputId": "49a3b133-b140-4299-8494-f5e73bdd1140"
      },
      "execution_count": 25,
      "outputs": [
        {
          "output_type": "execute_result",
          "data": {
            "text/plain": [
              "3        2159.67\n",
              "21       5268.09\n",
              "23      11789.99\n",
              "27       1868.34\n",
              "38        512.84\n",
              "40       1538.23\n",
              "51       2691.22\n",
              "64       3283.98\n",
              "68       1152.62\n",
              "70       4717.77\n",
              "73      22853.53\n",
              "82       1242.38\n",
              "86       6034.54\n",
              "87     141833.39\n",
              "97        235.26\n",
              "107      1387.94\n",
              "114      5096.14\n",
              "115      5580.07\n",
              "116      5012.60\n",
              "122      4160.38\n",
              "128    335778.11\n",
              "154       564.38\n",
              "200       -23.92\n",
              "210      4726.00\n",
              "211       212.59\n",
              "221      2835.81\n",
              "229      1811.56\n",
              "246     40015.98\n",
              "248       639.53\n",
              "249     11774.89\n",
              "251       300.10\n",
              "254      5607.59\n",
              "263      1371.57\n",
              "280      9369.06\n",
              "282      1347.27\n",
              "289      3436.76\n",
              "291      1144.88\n",
              "306      5894.91\n",
              "315      1926.80\n",
              "333      1417.84\n",
              "363      1549.91\n",
              "403       551.44\n",
              "419      3066.42\n",
              "422       724.67\n",
              "426      7437.29\n",
              "430      2853.32\n",
              "441     11280.95\n",
              "443      1180.20\n",
              "Name: Total Savings, dtype: float64"
            ]
          },
          "metadata": {},
          "execution_count": 25
        }
      ]
    },
    {
      "cell_type": "code",
      "source": [
        "(df3[df3[\"NTA\"] == \"Sunset Park West\"][\"Total Savings\"]).sum()"
      ],
      "metadata": {
        "colab": {
          "base_uri": "https://localhost:8080/"
        },
        "id": "Kjd26z5TpHvZ",
        "outputId": "895814d6-14db-4ee4-d459-576ecdfbf7b0"
      },
      "execution_count": 26,
      "outputs": [
        {
          "output_type": "execute_result",
          "data": {
            "text/plain": [
              "687214.89"
            ]
          },
          "metadata": {},
          "execution_count": 26
        }
      ]
    },
    {
      "cell_type": "code",
      "source": [
        "total = (df3[df3[\"NTA\"] == \"Sunset Park West\"][\"Total Savings\"]).sum()"
      ],
      "metadata": {
        "id": "7lH0cbFmqDtD"
      },
      "execution_count": 27,
      "outputs": []
    },
    {
      "cell_type": "code",
      "source": [
        "total/len(df3[df3[\"NTA\"] == \"Sunset Park West\"])"
      ],
      "metadata": {
        "colab": {
          "base_uri": "https://localhost:8080/"
        },
        "id": "ozbmNJsIqGYy",
        "outputId": "c0e6874e-64be-47ee-f729-3840d63e9e22"
      },
      "execution_count": 28,
      "outputs": [
        {
          "output_type": "execute_result",
          "data": {
            "text/plain": [
              "14316.976875"
            ]
          },
          "metadata": {},
          "execution_count": 28
        }
      ]
    },
    {
      "cell_type": "code",
      "source": [
        "def avg_total_savings(nta):\n",
        "  total = (df3[df3[\"NTA\"] == nta][\"Total Savings\"]).sum()\n",
        "  avg = total/len(df3[df3[\"NTA\"] == nta])\n",
        "  print(nta + \": Average Total Savings of $\" + str(avg))"
      ],
      "metadata": {
        "id": "tjON2dTHo2dK"
      },
      "execution_count": 29,
      "outputs": []
    },
    {
      "cell_type": "code",
      "source": [
        "avg_total_savings(\"Sunset Park West\")"
      ],
      "metadata": {
        "colab": {
          "base_uri": "https://localhost:8080/"
        },
        "id": "M_tAURibqa33",
        "outputId": "1516f02b-5306-44ca-fe1b-930a7ac80f84"
      },
      "execution_count": 30,
      "outputs": [
        {
          "output_type": "stream",
          "name": "stdout",
          "text": [
            "Sunset Park West: Average Total Savings of $14316.976875\n"
          ]
        }
      ]
    },
    {
      "cell_type": "code",
      "source": [
        "def total_jobs_created(nta):\n",
        "  total = (df3[df3[\"NTA\"] == nta][\"Job created\"]).sum()\n",
        "  print(nta + \": Total Jobs Created is \" + str(total))"
      ],
      "metadata": {
        "id": "rLQ5wsHmrwxZ"
      },
      "execution_count": 31,
      "outputs": []
    },
    {
      "cell_type": "code",
      "source": [
        "df3.fillna(0)"
      ],
      "metadata": {
        "colab": {
          "base_uri": "https://localhost:8080/",
          "height": 1000
        },
        "id": "-kQThkAmsm8M",
        "outputId": "19f8d914-0347-43f0-8521-55d9d0f9b065"
      },
      "execution_count": 32,
      "outputs": [
        {
          "output_type": "execute_result",
          "data": {
            "text/plain": [
              "                                 Company Name    company contact  \\\n",
              "2                        100 Wall Investments       Jerry Branam   \n",
              "3                 1-10 Bush Terminal Owner LP     Andrew Kimball   \n",
              "4    120 Broadway Acquisitions JV, LLC (Ldmk)        Carl Letich   \n",
              "5                        120 Wall Street, LLC      Jason McCalla   \n",
              "6                        139 ACA Realty, Inc.    Eitan Chandally   \n",
              "..                                        ...                ...   \n",
              "443                  William Hird & Co., Inc.     Thomas E. Bury   \n",
              "444                     Williams Sonoma, Inc.  Christine Hickman   \n",
              "445                         WONTON FOOD, INC.         DONALD LAU   \n",
              "446                                Wood Works       Gordon Brawm   \n",
              "448                         WUD Furniture LLC     Keren Springer   \n",
              "\n",
              "                 company email company phone                Address  \\\n",
              "2                            0    2122487160         96 Wall Street   \n",
              "3    akimball@industrycity.com    3474178429  220 36th St, Suite 2A   \n",
              "4        clettich@silvprop.com    2124064020           120 Broadway   \n",
              "5        jmccalla@silvprop.com    2125517391        120 Wall Street   \n",
              "6            barbara@dial7.com    7187076123      43-23 35th Street   \n",
              "..                         ...           ...                    ...   \n",
              "443          tebury@hirdco.com    7184994881        255 40th Street   \n",
              "444          CHickman@WSGC.com    7187804442        55 Water Street   \n",
              "445   donaldlau@wontonfood.com    7186286868  220-222  MOORE STREET   \n",
              "446       brawnworks@gmail.com    9179404950        162 Cook Street   \n",
              "448     keren@wudfurniture.com    7184867952   1102 Atlantic Avenue   \n",
              "\n",
              "                 City State  Postcode                          Industry  \\\n",
              "2            New York    NY     10005                          Landlord   \n",
              "3            Brooklyn    NY     11232                          Landlord   \n",
              "4            New York    NY     10271                        Commercial   \n",
              "5            New York    NY     10005                        Commercial   \n",
              "6    Long Island City    NY     11101                        Commercial   \n",
              "..                ...   ...       ...                               ...   \n",
              "443          Brooklyn    NY     11232                     Manufacturing   \n",
              "444          Brooklyn    NY     11201  Wholesale/Warehouse/Distribution   \n",
              "445          Brooklyn    NY     11206                     Manufacturing   \n",
              "446          Brooklyn    NY     11206                     Manufacturing   \n",
              "448          Brooklyn    NY     11238                     Manufacturing   \n",
              "\n",
              "                                        Industry descr  ...   Borough  \\\n",
              "2                                                    0  ...  New York   \n",
              "3    Special Eligible Premises for eligible businesses  ...  Brooklyn   \n",
              "4                                                    0  ...  New York   \n",
              "5                                         Back Offices  ...  New York   \n",
              "6                                    Limousine Service  ...    Queens   \n",
              "..                                                 ...  ...       ...   \n",
              "443                Manufacture fire protection systems  ...  Brooklyn   \n",
              "444                 high quality products for the home  ...  Brooklyn   \n",
              "445                          MFG. PASTA, EGGROLL SKINS  ...  Brooklyn   \n",
              "446                        Installer of wood furniture  ...  Brooklyn   \n",
              "448  We make handcrafted furniture, surfaces, lighting  ...  Brooklyn   \n",
              "\n",
              "      Latitude  Longitude  Community Board Council District  Census Tract  \\\n",
              "2    40.705052 -74.007199            101.0              1.0           7.0   \n",
              "3    40.656061 -74.007334            307.0             38.0           2.0   \n",
              "4    40.708546 -74.011041            101.0              1.0           7.0   \n",
              "5    40.704380 -74.006427            101.0              1.0           7.0   \n",
              "6    40.745706 -73.929565            402.0             26.0         179.0   \n",
              "..         ...        ...              ...              ...           ...   \n",
              "443  40.653997 -74.009925            307.0             38.0           2.0   \n",
              "444  40.703301 -73.992047            302.0             33.0          21.0   \n",
              "445  40.704425 -73.936010            301.0             34.0         485.0   \n",
              "446  40.702869 -73.936466            301.0             34.0         485.0   \n",
              "448  40.679518 -73.956819            308.0             35.0         305.0   \n",
              "\n",
              "           BIN           BBL  \\\n",
              "2    1000875.0  1.000380e+09   \n",
              "3    3398687.0  3.006950e+09   \n",
              "4    1001026.0  1.000478e+09   \n",
              "5    1000871.0  1.000370e+09   \n",
              "6    4003160.0  4.002220e+09   \n",
              "..         ...           ...   \n",
              "443  3010468.0  3.007070e+09   \n",
              "444  3000019.0  3.000260e+09   \n",
              "445  3071539.0  3.031090e+09   \n",
              "446  3071625.0  3.031230e+09   \n",
              "448  3027572.0  3.011260e+09   \n",
              "\n",
              "                                                  NTA            domain  \n",
              "2                   Battery Park City-Lower Manhattan                 0  \n",
              "3                                    Sunset Park West  industrycity.com  \n",
              "4                   Battery Park City-Lower Manhattan      silvprop.com  \n",
              "5                   Battery Park City-Lower Manhattan      silvprop.com  \n",
              "6                Hunters Point-Sunnyside-West Maspeth         dial7.com  \n",
              "..                                                ...               ...  \n",
              "443                                  Sunset Park West        hirdco.com  \n",
              "444  DUMBO-Vinegar Hill-Downtown Brooklyn-Boerum Hill          WSGC.com  \n",
              "445                                    Bushwick South    wontonfood.com  \n",
              "446                                    Bushwick South         gmail.com  \n",
              "448                               Crown Heights North  wudfurniture.com  \n",
              "\n",
              "[296 rows x 27 columns]"
            ],
            "text/html": [
              "\n",
              "  <div id=\"df-e7c6fbef-4fc3-467e-9303-a2f2eb9c87a1\">\n",
              "    <div class=\"colab-df-container\">\n",
              "      <div>\n",
              "<style scoped>\n",
              "    .dataframe tbody tr th:only-of-type {\n",
              "        vertical-align: middle;\n",
              "    }\n",
              "\n",
              "    .dataframe tbody tr th {\n",
              "        vertical-align: top;\n",
              "    }\n",
              "\n",
              "    .dataframe thead th {\n",
              "        text-align: right;\n",
              "    }\n",
              "</style>\n",
              "<table border=\"1\" class=\"dataframe\">\n",
              "  <thead>\n",
              "    <tr style=\"text-align: right;\">\n",
              "      <th></th>\n",
              "      <th>Company Name</th>\n",
              "      <th>company contact</th>\n",
              "      <th>company email</th>\n",
              "      <th>company phone</th>\n",
              "      <th>Address</th>\n",
              "      <th>City</th>\n",
              "      <th>State</th>\n",
              "      <th>Postcode</th>\n",
              "      <th>Industry</th>\n",
              "      <th>Industry descr</th>\n",
              "      <th>...</th>\n",
              "      <th>Borough</th>\n",
              "      <th>Latitude</th>\n",
              "      <th>Longitude</th>\n",
              "      <th>Community Board</th>\n",
              "      <th>Council District</th>\n",
              "      <th>Census Tract</th>\n",
              "      <th>BIN</th>\n",
              "      <th>BBL</th>\n",
              "      <th>NTA</th>\n",
              "      <th>domain</th>\n",
              "    </tr>\n",
              "  </thead>\n",
              "  <tbody>\n",
              "    <tr>\n",
              "      <th>2</th>\n",
              "      <td>100 Wall Investments</td>\n",
              "      <td>Jerry Branam</td>\n",
              "      <td>0</td>\n",
              "      <td>2122487160</td>\n",
              "      <td>96 Wall Street</td>\n",
              "      <td>New York</td>\n",
              "      <td>NY</td>\n",
              "      <td>10005</td>\n",
              "      <td>Landlord</td>\n",
              "      <td>0</td>\n",
              "      <td>...</td>\n",
              "      <td>New York</td>\n",
              "      <td>40.705052</td>\n",
              "      <td>-74.007199</td>\n",
              "      <td>101.0</td>\n",
              "      <td>1.0</td>\n",
              "      <td>7.0</td>\n",
              "      <td>1000875.0</td>\n",
              "      <td>1.000380e+09</td>\n",
              "      <td>Battery Park City-Lower Manhattan</td>\n",
              "      <td>0</td>\n",
              "    </tr>\n",
              "    <tr>\n",
              "      <th>3</th>\n",
              "      <td>1-10 Bush Terminal Owner LP</td>\n",
              "      <td>Andrew Kimball</td>\n",
              "      <td>akimball@industrycity.com</td>\n",
              "      <td>3474178429</td>\n",
              "      <td>220 36th St, Suite 2A</td>\n",
              "      <td>Brooklyn</td>\n",
              "      <td>NY</td>\n",
              "      <td>11232</td>\n",
              "      <td>Landlord</td>\n",
              "      <td>Special Eligible Premises for eligible businesses</td>\n",
              "      <td>...</td>\n",
              "      <td>Brooklyn</td>\n",
              "      <td>40.656061</td>\n",
              "      <td>-74.007334</td>\n",
              "      <td>307.0</td>\n",
              "      <td>38.0</td>\n",
              "      <td>2.0</td>\n",
              "      <td>3398687.0</td>\n",
              "      <td>3.006950e+09</td>\n",
              "      <td>Sunset Park West</td>\n",
              "      <td>industrycity.com</td>\n",
              "    </tr>\n",
              "    <tr>\n",
              "      <th>4</th>\n",
              "      <td>120 Broadway Acquisitions JV, LLC (Ldmk)</td>\n",
              "      <td>Carl Letich</td>\n",
              "      <td>clettich@silvprop.com</td>\n",
              "      <td>2124064020</td>\n",
              "      <td>120 Broadway</td>\n",
              "      <td>New York</td>\n",
              "      <td>NY</td>\n",
              "      <td>10271</td>\n",
              "      <td>Commercial</td>\n",
              "      <td>0</td>\n",
              "      <td>...</td>\n",
              "      <td>New York</td>\n",
              "      <td>40.708546</td>\n",
              "      <td>-74.011041</td>\n",
              "      <td>101.0</td>\n",
              "      <td>1.0</td>\n",
              "      <td>7.0</td>\n",
              "      <td>1001026.0</td>\n",
              "      <td>1.000478e+09</td>\n",
              "      <td>Battery Park City-Lower Manhattan</td>\n",
              "      <td>silvprop.com</td>\n",
              "    </tr>\n",
              "    <tr>\n",
              "      <th>5</th>\n",
              "      <td>120 Wall Street, LLC</td>\n",
              "      <td>Jason McCalla</td>\n",
              "      <td>jmccalla@silvprop.com</td>\n",
              "      <td>2125517391</td>\n",
              "      <td>120 Wall Street</td>\n",
              "      <td>New York</td>\n",
              "      <td>NY</td>\n",
              "      <td>10005</td>\n",
              "      <td>Commercial</td>\n",
              "      <td>Back Offices</td>\n",
              "      <td>...</td>\n",
              "      <td>New York</td>\n",
              "      <td>40.704380</td>\n",
              "      <td>-74.006427</td>\n",
              "      <td>101.0</td>\n",
              "      <td>1.0</td>\n",
              "      <td>7.0</td>\n",
              "      <td>1000871.0</td>\n",
              "      <td>1.000370e+09</td>\n",
              "      <td>Battery Park City-Lower Manhattan</td>\n",
              "      <td>silvprop.com</td>\n",
              "    </tr>\n",
              "    <tr>\n",
              "      <th>6</th>\n",
              "      <td>139 ACA Realty, Inc.</td>\n",
              "      <td>Eitan Chandally</td>\n",
              "      <td>barbara@dial7.com</td>\n",
              "      <td>7187076123</td>\n",
              "      <td>43-23 35th Street</td>\n",
              "      <td>Long Island City</td>\n",
              "      <td>NY</td>\n",
              "      <td>11101</td>\n",
              "      <td>Commercial</td>\n",
              "      <td>Limousine Service</td>\n",
              "      <td>...</td>\n",
              "      <td>Queens</td>\n",
              "      <td>40.745706</td>\n",
              "      <td>-73.929565</td>\n",
              "      <td>402.0</td>\n",
              "      <td>26.0</td>\n",
              "      <td>179.0</td>\n",
              "      <td>4003160.0</td>\n",
              "      <td>4.002220e+09</td>\n",
              "      <td>Hunters Point-Sunnyside-West Maspeth</td>\n",
              "      <td>dial7.com</td>\n",
              "    </tr>\n",
              "    <tr>\n",
              "      <th>...</th>\n",
              "      <td>...</td>\n",
              "      <td>...</td>\n",
              "      <td>...</td>\n",
              "      <td>...</td>\n",
              "      <td>...</td>\n",
              "      <td>...</td>\n",
              "      <td>...</td>\n",
              "      <td>...</td>\n",
              "      <td>...</td>\n",
              "      <td>...</td>\n",
              "      <td>...</td>\n",
              "      <td>...</td>\n",
              "      <td>...</td>\n",
              "      <td>...</td>\n",
              "      <td>...</td>\n",
              "      <td>...</td>\n",
              "      <td>...</td>\n",
              "      <td>...</td>\n",
              "      <td>...</td>\n",
              "      <td>...</td>\n",
              "      <td>...</td>\n",
              "    </tr>\n",
              "    <tr>\n",
              "      <th>443</th>\n",
              "      <td>William Hird &amp; Co., Inc.</td>\n",
              "      <td>Thomas E. Bury</td>\n",
              "      <td>tebury@hirdco.com</td>\n",
              "      <td>7184994881</td>\n",
              "      <td>255 40th Street</td>\n",
              "      <td>Brooklyn</td>\n",
              "      <td>NY</td>\n",
              "      <td>11232</td>\n",
              "      <td>Manufacturing</td>\n",
              "      <td>Manufacture fire protection systems</td>\n",
              "      <td>...</td>\n",
              "      <td>Brooklyn</td>\n",
              "      <td>40.653997</td>\n",
              "      <td>-74.009925</td>\n",
              "      <td>307.0</td>\n",
              "      <td>38.0</td>\n",
              "      <td>2.0</td>\n",
              "      <td>3010468.0</td>\n",
              "      <td>3.007070e+09</td>\n",
              "      <td>Sunset Park West</td>\n",
              "      <td>hirdco.com</td>\n",
              "    </tr>\n",
              "    <tr>\n",
              "      <th>444</th>\n",
              "      <td>Williams Sonoma, Inc.</td>\n",
              "      <td>Christine Hickman</td>\n",
              "      <td>CHickman@WSGC.com</td>\n",
              "      <td>7187804442</td>\n",
              "      <td>55 Water Street</td>\n",
              "      <td>Brooklyn</td>\n",
              "      <td>NY</td>\n",
              "      <td>11201</td>\n",
              "      <td>Wholesale/Warehouse/Distribution</td>\n",
              "      <td>high quality products for the home</td>\n",
              "      <td>...</td>\n",
              "      <td>Brooklyn</td>\n",
              "      <td>40.703301</td>\n",
              "      <td>-73.992047</td>\n",
              "      <td>302.0</td>\n",
              "      <td>33.0</td>\n",
              "      <td>21.0</td>\n",
              "      <td>3000019.0</td>\n",
              "      <td>3.000260e+09</td>\n",
              "      <td>DUMBO-Vinegar Hill-Downtown Brooklyn-Boerum Hill</td>\n",
              "      <td>WSGC.com</td>\n",
              "    </tr>\n",
              "    <tr>\n",
              "      <th>445</th>\n",
              "      <td>WONTON FOOD, INC.</td>\n",
              "      <td>DONALD LAU</td>\n",
              "      <td>donaldlau@wontonfood.com</td>\n",
              "      <td>7186286868</td>\n",
              "      <td>220-222  MOORE STREET</td>\n",
              "      <td>Brooklyn</td>\n",
              "      <td>NY</td>\n",
              "      <td>11206</td>\n",
              "      <td>Manufacturing</td>\n",
              "      <td>MFG. PASTA, EGGROLL SKINS</td>\n",
              "      <td>...</td>\n",
              "      <td>Brooklyn</td>\n",
              "      <td>40.704425</td>\n",
              "      <td>-73.936010</td>\n",
              "      <td>301.0</td>\n",
              "      <td>34.0</td>\n",
              "      <td>485.0</td>\n",
              "      <td>3071539.0</td>\n",
              "      <td>3.031090e+09</td>\n",
              "      <td>Bushwick South</td>\n",
              "      <td>wontonfood.com</td>\n",
              "    </tr>\n",
              "    <tr>\n",
              "      <th>446</th>\n",
              "      <td>Wood Works</td>\n",
              "      <td>Gordon Brawm</td>\n",
              "      <td>brawnworks@gmail.com</td>\n",
              "      <td>9179404950</td>\n",
              "      <td>162 Cook Street</td>\n",
              "      <td>Brooklyn</td>\n",
              "      <td>NY</td>\n",
              "      <td>11206</td>\n",
              "      <td>Manufacturing</td>\n",
              "      <td>Installer of wood furniture</td>\n",
              "      <td>...</td>\n",
              "      <td>Brooklyn</td>\n",
              "      <td>40.702869</td>\n",
              "      <td>-73.936466</td>\n",
              "      <td>301.0</td>\n",
              "      <td>34.0</td>\n",
              "      <td>485.0</td>\n",
              "      <td>3071625.0</td>\n",
              "      <td>3.031230e+09</td>\n",
              "      <td>Bushwick South</td>\n",
              "      <td>gmail.com</td>\n",
              "    </tr>\n",
              "    <tr>\n",
              "      <th>448</th>\n",
              "      <td>WUD Furniture LLC</td>\n",
              "      <td>Keren Springer</td>\n",
              "      <td>keren@wudfurniture.com</td>\n",
              "      <td>7184867952</td>\n",
              "      <td>1102 Atlantic Avenue</td>\n",
              "      <td>Brooklyn</td>\n",
              "      <td>NY</td>\n",
              "      <td>11238</td>\n",
              "      <td>Manufacturing</td>\n",
              "      <td>We make handcrafted furniture, surfaces, lighting</td>\n",
              "      <td>...</td>\n",
              "      <td>Brooklyn</td>\n",
              "      <td>40.679518</td>\n",
              "      <td>-73.956819</td>\n",
              "      <td>308.0</td>\n",
              "      <td>35.0</td>\n",
              "      <td>305.0</td>\n",
              "      <td>3027572.0</td>\n",
              "      <td>3.011260e+09</td>\n",
              "      <td>Crown Heights North</td>\n",
              "      <td>wudfurniture.com</td>\n",
              "    </tr>\n",
              "  </tbody>\n",
              "</table>\n",
              "<p>296 rows × 27 columns</p>\n",
              "</div>\n",
              "      <button class=\"colab-df-convert\" onclick=\"convertToInteractive('df-e7c6fbef-4fc3-467e-9303-a2f2eb9c87a1')\"\n",
              "              title=\"Convert this dataframe to an interactive table.\"\n",
              "              style=\"display:none;\">\n",
              "        \n",
              "  <svg xmlns=\"http://www.w3.org/2000/svg\" height=\"24px\"viewBox=\"0 0 24 24\"\n",
              "       width=\"24px\">\n",
              "    <path d=\"M0 0h24v24H0V0z\" fill=\"none\"/>\n",
              "    <path d=\"M18.56 5.44l.94 2.06.94-2.06 2.06-.94-2.06-.94-.94-2.06-.94 2.06-2.06.94zm-11 1L8.5 8.5l.94-2.06 2.06-.94-2.06-.94L8.5 2.5l-.94 2.06-2.06.94zm10 10l.94 2.06.94-2.06 2.06-.94-2.06-.94-.94-2.06-.94 2.06-2.06.94z\"/><path d=\"M17.41 7.96l-1.37-1.37c-.4-.4-.92-.59-1.43-.59-.52 0-1.04.2-1.43.59L10.3 9.45l-7.72 7.72c-.78.78-.78 2.05 0 2.83L4 21.41c.39.39.9.59 1.41.59.51 0 1.02-.2 1.41-.59l7.78-7.78 2.81-2.81c.8-.78.8-2.07 0-2.86zM5.41 20L4 18.59l7.72-7.72 1.47 1.35L5.41 20z\"/>\n",
              "  </svg>\n",
              "      </button>\n",
              "      \n",
              "  <style>\n",
              "    .colab-df-container {\n",
              "      display:flex;\n",
              "      flex-wrap:wrap;\n",
              "      gap: 12px;\n",
              "    }\n",
              "\n",
              "    .colab-df-convert {\n",
              "      background-color: #E8F0FE;\n",
              "      border: none;\n",
              "      border-radius: 50%;\n",
              "      cursor: pointer;\n",
              "      display: none;\n",
              "      fill: #1967D2;\n",
              "      height: 32px;\n",
              "      padding: 0 0 0 0;\n",
              "      width: 32px;\n",
              "    }\n",
              "\n",
              "    .colab-df-convert:hover {\n",
              "      background-color: #E2EBFA;\n",
              "      box-shadow: 0px 1px 2px rgba(60, 64, 67, 0.3), 0px 1px 3px 1px rgba(60, 64, 67, 0.15);\n",
              "      fill: #174EA6;\n",
              "    }\n",
              "\n",
              "    [theme=dark] .colab-df-convert {\n",
              "      background-color: #3B4455;\n",
              "      fill: #D2E3FC;\n",
              "    }\n",
              "\n",
              "    [theme=dark] .colab-df-convert:hover {\n",
              "      background-color: #434B5C;\n",
              "      box-shadow: 0px 1px 3px 1px rgba(0, 0, 0, 0.15);\n",
              "      filter: drop-shadow(0px 1px 2px rgba(0, 0, 0, 0.3));\n",
              "      fill: #FFFFFF;\n",
              "    }\n",
              "  </style>\n",
              "\n",
              "      <script>\n",
              "        const buttonEl =\n",
              "          document.querySelector('#df-e7c6fbef-4fc3-467e-9303-a2f2eb9c87a1 button.colab-df-convert');\n",
              "        buttonEl.style.display =\n",
              "          google.colab.kernel.accessAllowed ? 'block' : 'none';\n",
              "\n",
              "        async function convertToInteractive(key) {\n",
              "          const element = document.querySelector('#df-e7c6fbef-4fc3-467e-9303-a2f2eb9c87a1');\n",
              "          const dataTable =\n",
              "            await google.colab.kernel.invokeFunction('convertToInteractive',\n",
              "                                                     [key], {});\n",
              "          if (!dataTable) return;\n",
              "\n",
              "          const docLinkHtml = 'Like what you see? Visit the ' +\n",
              "            '<a target=\"_blank\" href=https://colab.research.google.com/notebooks/data_table.ipynb>data table notebook</a>'\n",
              "            + ' to learn more about interactive tables.';\n",
              "          element.innerHTML = '';\n",
              "          dataTable['output_type'] = 'display_data';\n",
              "          await google.colab.output.renderOutput(dataTable, element);\n",
              "          const docLink = document.createElement('div');\n",
              "          docLink.innerHTML = docLinkHtml;\n",
              "          element.appendChild(docLink);\n",
              "        }\n",
              "      </script>\n",
              "    </div>\n",
              "  </div>\n",
              "  "
            ]
          },
          "metadata": {},
          "execution_count": 32
        }
      ]
    },
    {
      "cell_type": "code",
      "source": [
        "total_jobs_created(\"Sunset Park West\")"
      ],
      "metadata": {
        "colab": {
          "base_uri": "https://localhost:8080/"
        },
        "id": "C-gSP_GPtauo",
        "outputId": "24c00bf7-fd5a-4f17-87a6-49e50e055d10"
      },
      "execution_count": 33,
      "outputs": [
        {
          "output_type": "stream",
          "name": "stdout",
          "text": [
            "Sunset Park West: Total Jobs Created is 0.0\n"
          ]
        }
      ]
    },
    {
      "cell_type": "code",
      "source": [
        "def avg_savings_and_job_created(nta):\n",
        "  total = (df3[df3[\"NTA\"] == nta][\"Total Savings\"]).sum()\n",
        "  avg = total/len(df3[df3[\"NTA\"] == nta])\n",
        "  total_jobs = (df3[df3[\"NTA\"] == nta][\"Job created\"]).sum()\n",
        "  print(nta + \": Average Total Savings of $\" + str(avg) + \", and \" + str(total_jobs) + \" total jobs created.\")"
      ],
      "metadata": {
        "id": "x9aGz4V8tjzH"
      },
      "execution_count": 34,
      "outputs": []
    },
    {
      "cell_type": "code",
      "source": [
        "avg_savings_and_job_created(\"Sunset Park West\")"
      ],
      "metadata": {
        "colab": {
          "base_uri": "https://localhost:8080/"
        },
        "id": "ylgkvl6Dt4lF",
        "outputId": "d060cc77-201e-4111-8371-d455f4c16911"
      },
      "execution_count": 35,
      "outputs": [
        {
          "output_type": "stream",
          "name": "stdout",
          "text": [
            "Sunset Park West: Average Total Savings of $14316.976875, and 0.0 total jobs created.\n"
          ]
        }
      ]
    },
    {
      "cell_type": "code",
      "source": [
        "for x in df3[\"NTA\"].value_counts().index.tolist():\n",
        "  avg_savings_and_job_created(x)"
      ],
      "metadata": {
        "colab": {
          "base_uri": "https://localhost:8080/"
        },
        "id": "w8GxA64MuAwo",
        "outputId": "53a71493-72b0-48a8-e735-388994a7cce6"
      },
      "execution_count": 36,
      "outputs": [
        {
          "output_type": "stream",
          "name": "stdout",
          "text": [
            "Hunters Point-Sunnyside-West Maspeth: Average Total Savings of $23931.398933333334, and 0.0 total jobs created.\n",
            "Sunset Park West: Average Total Savings of $14316.976875, and 0.0 total jobs created.\n",
            "Queensbridge-Ravenswood-Long Island City: Average Total Savings of $61830.770625, and 0.0 total jobs created.\n",
            "park-cemetery-etc-Brooklyn: Average Total Savings of $14327.419333333331, and 0.0 total jobs created.\n",
            "Greenpoint: Average Total Savings of $9753.649285714286, and 0.0 total jobs created.\n",
            "Mott Haven-Port Morris: Average Total Savings of $17843.937857142857, and 10.0 total jobs created.\n",
            "Hunts Point: Average Total Savings of $39246.016153846154, and 12.0 total jobs created.\n",
            "East Williamsburg: Average Total Savings of $13990.626363636366, and 0.0 total jobs created.\n",
            "Carroll Gardens-Columbia Street-Red Hook: Average Total Savings of $24337.390000000003, and 0.0 total jobs created.\n",
            "DUMBO-Vinegar Hill-Downtown Brooklyn-Boerum Hill: Average Total Savings of $59950.340000000004, and 0.0 total jobs created.\n",
            "Bushwick South: Average Total Savings of $26140.455, and 10.0 total jobs created.\n",
            "Battery Park City-Lower Manhattan: Average Total Savings of $469890.79666666663, and 0.0 total jobs created.\n",
            "Maspeth: Average Total Savings of $6658.283333333334, and 10.0 total jobs created.\n",
            "Manhattanville: Average Total Savings of $2760.8888888888887, and 0.0 total jobs created.\n",
            "Crown Heights North: Average Total Savings of $4036.298888888889, and 0.0 total jobs created.\n",
            "East New York: Average Total Savings of $48433.09333333333, and 15.0 total jobs created.\n",
            "Steinway: Average Total Savings of $11227.155714285715, and 20.0 total jobs created.\n",
            "College Point: Average Total Savings of $17159.372857142855, and 2.0 total jobs created.\n"
          ]
        }
      ]
    },
    {
      "cell_type": "code",
      "source": [
        "#Below is useful for day 5 "
      ],
      "metadata": {
        "id": "70TY-mJ5wjfk"
      },
      "execution_count": null,
      "outputs": []
    },
    {
      "cell_type": "code",
      "source": [
        "dfplot = df3.groupby(\"NTA\").agg(AverageSavings=('Total Savings','mean'), TotalJobsCreated=(\"Job created\", \"sum\"))"
      ],
      "metadata": {
        "id": "iL_U-QG-NUlC"
      },
      "execution_count": 39,
      "outputs": []
    },
    {
      "cell_type": "code",
      "source": [
        "dfplot"
      ],
      "metadata": {
        "colab": {
          "base_uri": "https://localhost:8080/",
          "height": 645
        },
        "id": "WXonY0IkPZrx",
        "outputId": "ba6fb1cd-f894-4299-afba-b1d3263476ef"
      },
      "execution_count": 40,
      "outputs": [
        {
          "output_type": "execute_result",
          "data": {
            "text/plain": [
              "                                                  AverageSavings  \\\n",
              "NTA                                                                \n",
              "Battery Park City-Lower Manhattan                  469890.796667   \n",
              "Bushwick South                                      26140.455000   \n",
              "Carroll Gardens-Columbia Street-Red Hook            24337.390000   \n",
              "College Point                                       17159.372857   \n",
              "Crown Heights North                                  4036.298889   \n",
              "DUMBO-Vinegar Hill-Downtown Brooklyn-Boerum Hill    59950.340000   \n",
              "East New York                                       48433.093333   \n",
              "East Williamsburg                                   13990.626364   \n",
              "Greenpoint                                           9753.649286   \n",
              "Hunters Point-Sunnyside-West Maspeth                23931.398933   \n",
              "Hunts Point                                         39246.016154   \n",
              "Manhattanville                                       2760.888889   \n",
              "Maspeth                                              6658.283333   \n",
              "Mott Haven-Port Morris                              17843.937857   \n",
              "Queensbridge-Ravenswood-Long Island City            61830.770625   \n",
              "Steinway                                            11227.155714   \n",
              "Sunset Park West                                    14316.976875   \n",
              "park-cemetery-etc-Brooklyn                          14327.419333   \n",
              "\n",
              "                                                  TotalJobsCreated  \n",
              "NTA                                                                 \n",
              "Battery Park City-Lower Manhattan                              0.0  \n",
              "Bushwick South                                                10.0  \n",
              "Carroll Gardens-Columbia Street-Red Hook                       0.0  \n",
              "College Point                                                  2.0  \n",
              "Crown Heights North                                            0.0  \n",
              "DUMBO-Vinegar Hill-Downtown Brooklyn-Boerum Hill               0.0  \n",
              "East New York                                                 15.0  \n",
              "East Williamsburg                                              0.0  \n",
              "Greenpoint                                                     0.0  \n",
              "Hunters Point-Sunnyside-West Maspeth                           0.0  \n",
              "Hunts Point                                                   12.0  \n",
              "Manhattanville                                                 0.0  \n",
              "Maspeth                                                       10.0  \n",
              "Mott Haven-Port Morris                                        10.0  \n",
              "Queensbridge-Ravenswood-Long Island City                       0.0  \n",
              "Steinway                                                      20.0  \n",
              "Sunset Park West                                               0.0  \n",
              "park-cemetery-etc-Brooklyn                                     0.0  "
            ],
            "text/html": [
              "\n",
              "  <div id=\"df-5bf8aa65-3c00-450c-a3eb-bf43e9bc998c\">\n",
              "    <div class=\"colab-df-container\">\n",
              "      <div>\n",
              "<style scoped>\n",
              "    .dataframe tbody tr th:only-of-type {\n",
              "        vertical-align: middle;\n",
              "    }\n",
              "\n",
              "    .dataframe tbody tr th {\n",
              "        vertical-align: top;\n",
              "    }\n",
              "\n",
              "    .dataframe thead th {\n",
              "        text-align: right;\n",
              "    }\n",
              "</style>\n",
              "<table border=\"1\" class=\"dataframe\">\n",
              "  <thead>\n",
              "    <tr style=\"text-align: right;\">\n",
              "      <th></th>\n",
              "      <th>AverageSavings</th>\n",
              "      <th>TotalJobsCreated</th>\n",
              "    </tr>\n",
              "    <tr>\n",
              "      <th>NTA</th>\n",
              "      <th></th>\n",
              "      <th></th>\n",
              "    </tr>\n",
              "  </thead>\n",
              "  <tbody>\n",
              "    <tr>\n",
              "      <th>Battery Park City-Lower Manhattan</th>\n",
              "      <td>469890.796667</td>\n",
              "      <td>0.0</td>\n",
              "    </tr>\n",
              "    <tr>\n",
              "      <th>Bushwick South</th>\n",
              "      <td>26140.455000</td>\n",
              "      <td>10.0</td>\n",
              "    </tr>\n",
              "    <tr>\n",
              "      <th>Carroll Gardens-Columbia Street-Red Hook</th>\n",
              "      <td>24337.390000</td>\n",
              "      <td>0.0</td>\n",
              "    </tr>\n",
              "    <tr>\n",
              "      <th>College Point</th>\n",
              "      <td>17159.372857</td>\n",
              "      <td>2.0</td>\n",
              "    </tr>\n",
              "    <tr>\n",
              "      <th>Crown Heights North</th>\n",
              "      <td>4036.298889</td>\n",
              "      <td>0.0</td>\n",
              "    </tr>\n",
              "    <tr>\n",
              "      <th>DUMBO-Vinegar Hill-Downtown Brooklyn-Boerum Hill</th>\n",
              "      <td>59950.340000</td>\n",
              "      <td>0.0</td>\n",
              "    </tr>\n",
              "    <tr>\n",
              "      <th>East New York</th>\n",
              "      <td>48433.093333</td>\n",
              "      <td>15.0</td>\n",
              "    </tr>\n",
              "    <tr>\n",
              "      <th>East Williamsburg</th>\n",
              "      <td>13990.626364</td>\n",
              "      <td>0.0</td>\n",
              "    </tr>\n",
              "    <tr>\n",
              "      <th>Greenpoint</th>\n",
              "      <td>9753.649286</td>\n",
              "      <td>0.0</td>\n",
              "    </tr>\n",
              "    <tr>\n",
              "      <th>Hunters Point-Sunnyside-West Maspeth</th>\n",
              "      <td>23931.398933</td>\n",
              "      <td>0.0</td>\n",
              "    </tr>\n",
              "    <tr>\n",
              "      <th>Hunts Point</th>\n",
              "      <td>39246.016154</td>\n",
              "      <td>12.0</td>\n",
              "    </tr>\n",
              "    <tr>\n",
              "      <th>Manhattanville</th>\n",
              "      <td>2760.888889</td>\n",
              "      <td>0.0</td>\n",
              "    </tr>\n",
              "    <tr>\n",
              "      <th>Maspeth</th>\n",
              "      <td>6658.283333</td>\n",
              "      <td>10.0</td>\n",
              "    </tr>\n",
              "    <tr>\n",
              "      <th>Mott Haven-Port Morris</th>\n",
              "      <td>17843.937857</td>\n",
              "      <td>10.0</td>\n",
              "    </tr>\n",
              "    <tr>\n",
              "      <th>Queensbridge-Ravenswood-Long Island City</th>\n",
              "      <td>61830.770625</td>\n",
              "      <td>0.0</td>\n",
              "    </tr>\n",
              "    <tr>\n",
              "      <th>Steinway</th>\n",
              "      <td>11227.155714</td>\n",
              "      <td>20.0</td>\n",
              "    </tr>\n",
              "    <tr>\n",
              "      <th>Sunset Park West</th>\n",
              "      <td>14316.976875</td>\n",
              "      <td>0.0</td>\n",
              "    </tr>\n",
              "    <tr>\n",
              "      <th>park-cemetery-etc-Brooklyn</th>\n",
              "      <td>14327.419333</td>\n",
              "      <td>0.0</td>\n",
              "    </tr>\n",
              "  </tbody>\n",
              "</table>\n",
              "</div>\n",
              "      <button class=\"colab-df-convert\" onclick=\"convertToInteractive('df-5bf8aa65-3c00-450c-a3eb-bf43e9bc998c')\"\n",
              "              title=\"Convert this dataframe to an interactive table.\"\n",
              "              style=\"display:none;\">\n",
              "        \n",
              "  <svg xmlns=\"http://www.w3.org/2000/svg\" height=\"24px\"viewBox=\"0 0 24 24\"\n",
              "       width=\"24px\">\n",
              "    <path d=\"M0 0h24v24H0V0z\" fill=\"none\"/>\n",
              "    <path d=\"M18.56 5.44l.94 2.06.94-2.06 2.06-.94-2.06-.94-.94-2.06-.94 2.06-2.06.94zm-11 1L8.5 8.5l.94-2.06 2.06-.94-2.06-.94L8.5 2.5l-.94 2.06-2.06.94zm10 10l.94 2.06.94-2.06 2.06-.94-2.06-.94-.94-2.06-.94 2.06-2.06.94z\"/><path d=\"M17.41 7.96l-1.37-1.37c-.4-.4-.92-.59-1.43-.59-.52 0-1.04.2-1.43.59L10.3 9.45l-7.72 7.72c-.78.78-.78 2.05 0 2.83L4 21.41c.39.39.9.59 1.41.59.51 0 1.02-.2 1.41-.59l7.78-7.78 2.81-2.81c.8-.78.8-2.07 0-2.86zM5.41 20L4 18.59l7.72-7.72 1.47 1.35L5.41 20z\"/>\n",
              "  </svg>\n",
              "      </button>\n",
              "      \n",
              "  <style>\n",
              "    .colab-df-container {\n",
              "      display:flex;\n",
              "      flex-wrap:wrap;\n",
              "      gap: 12px;\n",
              "    }\n",
              "\n",
              "    .colab-df-convert {\n",
              "      background-color: #E8F0FE;\n",
              "      border: none;\n",
              "      border-radius: 50%;\n",
              "      cursor: pointer;\n",
              "      display: none;\n",
              "      fill: #1967D2;\n",
              "      height: 32px;\n",
              "      padding: 0 0 0 0;\n",
              "      width: 32px;\n",
              "    }\n",
              "\n",
              "    .colab-df-convert:hover {\n",
              "      background-color: #E2EBFA;\n",
              "      box-shadow: 0px 1px 2px rgba(60, 64, 67, 0.3), 0px 1px 3px 1px rgba(60, 64, 67, 0.15);\n",
              "      fill: #174EA6;\n",
              "    }\n",
              "\n",
              "    [theme=dark] .colab-df-convert {\n",
              "      background-color: #3B4455;\n",
              "      fill: #D2E3FC;\n",
              "    }\n",
              "\n",
              "    [theme=dark] .colab-df-convert:hover {\n",
              "      background-color: #434B5C;\n",
              "      box-shadow: 0px 1px 3px 1px rgba(0, 0, 0, 0.15);\n",
              "      filter: drop-shadow(0px 1px 2px rgba(0, 0, 0, 0.3));\n",
              "      fill: #FFFFFF;\n",
              "    }\n",
              "  </style>\n",
              "\n",
              "      <script>\n",
              "        const buttonEl =\n",
              "          document.querySelector('#df-5bf8aa65-3c00-450c-a3eb-bf43e9bc998c button.colab-df-convert');\n",
              "        buttonEl.style.display =\n",
              "          google.colab.kernel.accessAllowed ? 'block' : 'none';\n",
              "\n",
              "        async function convertToInteractive(key) {\n",
              "          const element = document.querySelector('#df-5bf8aa65-3c00-450c-a3eb-bf43e9bc998c');\n",
              "          const dataTable =\n",
              "            await google.colab.kernel.invokeFunction('convertToInteractive',\n",
              "                                                     [key], {});\n",
              "          if (!dataTable) return;\n",
              "\n",
              "          const docLinkHtml = 'Like what you see? Visit the ' +\n",
              "            '<a target=\"_blank\" href=https://colab.research.google.com/notebooks/data_table.ipynb>data table notebook</a>'\n",
              "            + ' to learn more about interactive tables.';\n",
              "          element.innerHTML = '';\n",
              "          dataTable['output_type'] = 'display_data';\n",
              "          await google.colab.output.renderOutput(dataTable, element);\n",
              "          const docLink = document.createElement('div');\n",
              "          docLink.innerHTML = docLinkHtml;\n",
              "          element.appendChild(docLink);\n",
              "        }\n",
              "      </script>\n",
              "    </div>\n",
              "  </div>\n",
              "  "
            ]
          },
          "metadata": {},
          "execution_count": 40
        }
      ]
    },
    {
      "cell_type": "code",
      "source": [
        "#Finished work for problem 4^"
      ],
      "metadata": {
        "id": "lhR2ZqG33Tyg"
      },
      "execution_count": null,
      "outputs": []
    },
    {
      "cell_type": "code",
      "source": [
        "#Day 5 below"
      ],
      "metadata": {
        "id": "WR9Yr4Eb3Ynd"
      },
      "execution_count": null,
      "outputs": []
    },
    {
      "cell_type": "code",
      "source": [
        "#scatter plot of jobs created versus average savings. Use both a standard and a logarithmic scale for the average savings"
      ],
      "metadata": {
        "id": "p-HHQmX33agk"
      },
      "execution_count": null,
      "outputs": []
    },
    {
      "cell_type": "code",
      "source": [
        "#Standard\n",
        "plt.figure(figsize=(12,8))\n",
        "sns.scatterplot(x=dfplot[\"TotalJobsCreated\"], y=dfplot[\"AverageSavings\"], data=dfplot, hue=dfplot.index)\n",
        "plt.legend(loc=(1.1,0.2))\n",
        "plt.title(\"Average Savings vs Jobs Created: Standard Scale\")\n",
        "plt.show()\n",
        "#Log\n",
        "plt.figure(figsize=(12,8))\n",
        "sns.scatterplot(x=dfplot[\"TotalJobsCreated\"], y=dfplot[\"AverageSavings\"], data=dfplot, hue=dfplot.index)\n",
        "plt.yscale(\"log\")\n",
        "plt.legend(loc=(1.1,0.2))\n",
        "plt.title(\"Average Savings vs Jobs Created: Logarithmic Scale\")\n",
        "plt.show()"
      ],
      "metadata": {
        "colab": {
          "base_uri": "https://localhost:8080/",
          "height": 1000
        },
        "id": "vGBppuSV8kcj",
        "outputId": "93e8e84e-1ed8-4ac0-f2bc-7d5b5c263a6f"
      },
      "execution_count": 51,
      "outputs": [
        {
          "output_type": "display_data",
          "data": {
            "text/plain": [
              "<Figure size 864x576 with 1 Axes>"
            ],
            "image/png": "[encoded data removed]"
          },
          "metadata": {
            "needs_background": "light"
          }
        },
        {
          "output_type": "display_data",
          "data": {
            "text/plain": [
              "<Figure size 864x576 with 1 Axes>"
            ],
            "image/png": "[encoded data removed]"
          },
          "metadata": {
            "needs_background": "light"
          }
        }
      ]
    },
    {
      "cell_type": "code",
      "source": [
        "#histogram of the log of the average total savings"
      ],
      "metadata": {
        "id": "I9nQWe6E50RQ"
      },
      "execution_count": null,
      "outputs": []
    },
    {
      "cell_type": "code",
      "source": [
        "sns.histplot(data=dfplot, x = np.log10(dfplot[\"AverageSavings\"]))\n",
        "plt.show()"
      ],
      "metadata": {
        "colab": {
          "base_uri": "https://localhost:8080/",
          "height": 279
        },
        "id": "_jSpsRHD8kH3",
        "outputId": "02f7a6ac-c48c-4e3f-9df5-5cedabb3ae75"
      },
      "execution_count": 68,
      "outputs": [
        {
          "output_type": "display_data",
          "data": {
            "text/plain": [
              "<Figure size 432x288 with 1 Axes>"
            ],
            "image/png": "[encoded data removed]"
          },
          "metadata": {
            "needs_background": "light"
          }
        }
      ]
    },
    {
      "cell_type": "code",
      "source": [
        "#line plot of the total jobs created for each month"
      ],
      "metadata": {
        "id": "jfQCo-TX51qS"
      },
      "execution_count": null,
      "outputs": []
    },
    {
      "cell_type": "code",
      "source": [
        "df3[\"Effective Date\"]"
      ],
      "metadata": {
        "colab": {
          "base_uri": "https://localhost:8080/"
        },
        "id": "pzLiqI3a7kTG",
        "outputId": "e965f007-14fd-4f2a-ce0f-f6d03c7cd3b4"
      },
      "execution_count": 70,
      "outputs": [
        {
          "output_type": "execute_result",
          "data": {
            "text/plain": [
              "2      01/05/2015\n",
              "3      02/03/2020\n",
              "4      06/30/2017\n",
              "5      07/02/2015\n",
              "6      04/07/2008\n",
              "          ...    \n",
              "443    07/11/2008\n",
              "444    08/06/2018\n",
              "445    12/09/2008\n",
              "446    12/05/2017\n",
              "448    01/26/2016\n",
              "Name: Effective Date, Length: 296, dtype: object"
            ]
          },
          "metadata": {},
          "execution_count": 70
        }
      ]
    },
    {
      "cell_type": "code",
      "source": [
        "df3[\"Effective Date\"] = pd.to_datetime(df3[\"Effective Date\"])"
      ],
      "metadata": {
        "colab": {
          "base_uri": "https://localhost:8080/"
        },
        "id": "XuCN-_yi8Azy",
        "outputId": "0b5df78e-2858-4efb-bce7-cb03c81ffaf3"
      },
      "execution_count": 71,
      "outputs": [
        {
          "output_type": "stream",
          "name": "stderr",
          "text": [
            "<ipython-input-71-beffb9539ab8>:1: SettingWithCopyWarning: \n",
            "A value is trying to be set on a copy of a slice from a DataFrame.\n",
            "Try using .loc[row_indexer,col_indexer] = value instead\n",
            "\n",
            "See the caveats in the documentation: https://pandas.pydata.org/pandas-docs/stable/user_guide/indexing.html#returning-a-view-versus-a-copy\n",
            "  df3[\"Effective Date\"] = pd.to_datetime(df3[\"Effective Date\"])\n"
          ]
        }
      ]
    },
    {
      "cell_type": "code",
      "source": [
        "#I was unsure if the question was asking about each month in total added up, or to iterate over the months, therefore I did both"
      ],
      "metadata": {
        "id": "YHi2L_4sw469"
      },
      "execution_count": null,
      "outputs": []
    },
    {
      "cell_type": "code",
      "source": [
        "#Each year iterating over each month"
      ],
      "metadata": {
        "id": "exaXBwTdwqLw"
      },
      "execution_count": null,
      "outputs": []
    },
    {
      "cell_type": "code",
      "source": [
        "import matplotlib.dates as mdates\n",
        "years = mdates.YearLocator()\n",
        "months = mdates.MonthLocator()\n",
        "years_fmt = mdates.DateFormatter('%Y-%m')"
      ],
      "metadata": {
        "id": "kpz2EbtrtlSe"
      },
      "execution_count": 84,
      "outputs": []
    },
    {
      "cell_type": "code",
      "source": [
        "fig, ax = plt.subplots(1,1, figsize=(25,8))\n",
        "sns.lineplot(data=df3, x=df3[\"Effective Date\"], y=df3[\"Job created\"])\n",
        "ax.xaxis.set_major_locator(months)\n",
        "ax.xaxis.set_major_formatter(years_fmt)\n",
        "ax.xaxis.set_minor_locator(months)\n",
        "\n",
        "plt.xticks(rotation = 'vertical')\n",
        "plt.show()"
      ],
      "metadata": {
        "colab": {
          "base_uri": "https://localhost:8080/",
          "height": 401
        },
        "id": "-Pmzd_1ztqd2",
        "outputId": "9a254fef-bf06-47fa-d8a7-9ad0aac7a88d"
      },
      "execution_count": 90,
      "outputs": [
        {
          "output_type": "display_data",
          "data": {
            "text/plain": [
              "<Figure size 1800x576 with 1 Axes>"
            ],
            "image/png": "[encoded data removed]"
          },
          "metadata": {
            "needs_background": "light"
          }
        }
      ]
    },
    {
      "cell_type": "code",
      "source": [
        "#Each month separately "
      ],
      "metadata": {
        "id": "ERF8XMPfwvj6"
      },
      "execution_count": null,
      "outputs": []
    },
    {
      "cell_type": "code",
      "source": [
        "df3[\"month\"] = pd.DatetimeIndex(df3[\"Effective Date\"]).month"
      ],
      "metadata": {
        "colab": {
          "base_uri": "https://localhost:8080/"
        },
        "id": "EX3W9GqH8Fuq",
        "outputId": "38a7f1df-4f57-4fd6-bcc0-b27b0e0a035d"
      },
      "execution_count": 72,
      "outputs": [
        {
          "output_type": "stream",
          "name": "stderr",
          "text": [
            "<ipython-input-72-80728f19506d>:1: SettingWithCopyWarning: \n",
            "A value is trying to be set on a copy of a slice from a DataFrame.\n",
            "Try using .loc[row_indexer,col_indexer] = value instead\n",
            "\n",
            "See the caveats in the documentation: https://pandas.pydata.org/pandas-docs/stable/user_guide/indexing.html#returning-a-view-versus-a-copy\n",
            "  df3[\"month\"] = pd.DatetimeIndex(df3[\"Effective Date\"]).month\n"
          ]
        }
      ]
    },
    {
      "cell_type": "code",
      "source": [
        "plt.figure(figsize=(12,8))\n",
        "sns.lineplot(data=df3, x=df3[\"month\"], y=df3[\"Job created\"])\n",
        "plt.xlim(0,12)\n",
        "plt.show()"
      ],
      "metadata": {
        "colab": {
          "base_uri": "https://localhost:8080/",
          "height": 279
        },
        "id": "H9KIFM2P8XFe",
        "outputId": "5949a462-264c-4e68-c3e8-636589ec6d49"
      },
      "execution_count": 79,
      "outputs": [
        {
          "output_type": "display_data",
          "data": {
            "text/plain": [
              "<Figure size 432x288 with 1 Axes>"
            ],
            "image/png": "[encoded data removed]"
          },
          "metadata": {
            "needs_background": "light"
          }
        }
      ]
    }
  ]
}